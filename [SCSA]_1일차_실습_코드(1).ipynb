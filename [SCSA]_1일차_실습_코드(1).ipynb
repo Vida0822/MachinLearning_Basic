{
  "cells": [
    {
      "cell_type": "markdown",
      "metadata": {
        "id": "view-in-github",
        "colab_type": "text"
      },
      "source": [
        "<a href=\"https://colab.research.google.com/github/Vida0822/MachinLearning_Basic/blob/main/%5BSCSA%5D_1%EC%9D%BC%EC%B0%A8_%EC%8B%A4%EC%8A%B5_%EC%BD%94%EB%93%9C(1).ipynb\" target=\"_parent\"><img src=\"https://colab.research.google.com/assets/colab-badge.svg\" alt=\"Open In Colab\"/></a>"
      ]
    },
    {
      "cell_type": "markdown",
      "id": "693030fc",
      "metadata": {
        "id": "693030fc"
      },
      "source": [
        "# 01. Python"
      ]
    },
    {
      "cell_type": "markdown",
      "id": "4354f038",
      "metadata": {
        "id": "4354f038"
      },
      "source": [
        "## 01-001 Python 코드"
      ]
    },
    {
      "cell_type": "code",
      "execution_count": null,
      "id": "33845045",
      "metadata": {
        "colab": {
          "base_uri": "https://localhost:8080/"
        },
        "id": "33845045",
        "outputId": "b7e24511-bfe7-473e-a3a2-c44f69a85a62"
      },
      "outputs": [
        {
          "output_type": "stream",
          "name": "stdout",
          "text": [
            "1 is odd\n",
            "2 is even\n",
            "3 is odd\n",
            "4 is even\n",
            "5 is odd\n"
          ]
        }
      ],
      "source": [
        "# Python: 들여쓰기로 코드 블록 설정\n",
        "def check_numbers(numbers):\n",
        "    for number in numbers:\n",
        "        if number % 2 == 0:\n",
        "            print(f'{number} is even')\n",
        "        else:\n",
        "            print(f'{number} is odd')\n",
        "\n",
        "# 함수 호출\n",
        "numbers = [1, 2, 3, 4, 5]\n",
        "check_numbers(numbers)"
      ]
    },
    {
      "cell_type": "markdown",
      "id": "3aa94c4f",
      "metadata": {
        "id": "3aa94c4f"
      },
      "source": [
        "## 01-002 Python: for문을 이용한 시퀀스 순회 구조"
      ]
    },
    {
      "cell_type": "code",
      "execution_count": null,
      "id": "753fb67e",
      "metadata": {
        "id": "753fb67e",
        "scrolled": true
      },
      "outputs": [],
      "source": [
        "# for문을 이용한 시퀀스 순회 구조\n",
        "# 시퀀스의 각 요소가 변수에 순차적으로 대입되어 실행 코드가 반복 수행됨\n",
        "for 변수 in 시퀀스:\n",
        "    실행할 코드"
      ]
    },
    {
      "cell_type": "markdown",
      "id": "db87ac98",
      "metadata": {
        "id": "db87ac98"
      },
      "source": [
        "## 01-003 Python: for문을 이용한 시퀀스 순회 구조"
      ]
    },
    {
      "cell_type": "code",
      "execution_count": null,
      "id": "a89c82eb",
      "metadata": {
        "colab": {
          "base_uri": "https://localhost:8080/"
        },
        "id": "a89c82eb",
        "outputId": "7e37312d-4f55-4774-9593-11849b29fd7b",
        "collapsed": true
      },
      "outputs": [
        {
          "output_type": "stream",
          "name": "stdout",
          "text": [
            "0\n",
            "1\n",
            "2\n",
            "3\n",
            "4\n"
          ]
        }
      ],
      "source": [
        "numbers = [0, 1, 2, 3, 4]  # 리스트 생성\n",
        "\n",
        "for number in numbers:  # 리스트의 각 요소를 순차적으로 number 변수에 대입\n",
        "    print(number)  # number의 값을 출력"
      ]
    },
    {
      "cell_type": "markdown",
      "id": "44709f67",
      "metadata": {
        "id": "44709f67"
      },
      "source": [
        "## 01-004 Python: range() 함수를 이용한 반복"
      ]
    },
    {
      "cell_type": "code",
      "execution_count": null,
      "id": "4f798d81",
      "metadata": {
        "colab": {
          "base_uri": "https://localhost:8080/"
        },
        "id": "4f798d81",
        "outputId": "21d015a2-68f5-4b23-e831-b8e889157877",
        "collapsed": true
      },
      "outputs": [
        {
          "output_type": "stream",
          "name": "stdout",
          "text": [
            "0\n",
            "1\n",
            "2\n",
            "3\n",
            "4\n"
          ]
        }
      ],
      "source": [
        "# range() 함수를 사용한 반복문\n",
        "for number in range(5):  # 0부터 4까지의 숫자를 생성하여 number 변수에 대입\n",
        "    print(number)  # number의 값을 출력"
      ]
    },
    {
      "cell_type": "markdown",
      "id": "85a2407e",
      "metadata": {
        "id": "85a2407e"
      },
      "source": [
        "## 01-005 Python: 함수의 기본 구조"
      ]
    },
    {
      "cell_type": "code",
      "execution_count": null,
      "id": "5732817c",
      "metadata": {
        "id": "5732817c"
      },
      "outputs": [],
      "source": [
        "# 함수 정의 예시\n",
        "def 함수이름(매개변수1, 매개변수2):\n",
        "    # 실행할 코드\n",
        "    return 반환값  # 반환값은 선택 사항"
      ]
    },
    {
      "cell_type": "markdown",
      "id": "8f5d4be5",
      "metadata": {
        "id": "8f5d4be5"
      },
      "source": [
        "## 01-006 Python: 함수 정의 및 호출"
      ]
    },
    {
      "cell_type": "code",
      "execution_count": null,
      "id": "66eeb895",
      "metadata": {
        "id": "66eeb895"
      },
      "outputs": [],
      "source": [
        "# 두 값을 더하는 함수 정의\n",
        "def add(a, b):  # a와 b라는 두 매개변수를 받음\n",
        "    return a + b  # 두 값을 더한 결과를 반환\n",
        "\n",
        "# 함수 호출 및 결과 출력\n",
        "result = add(5, 3)  # add 함수를 호출하여 5와 3을 더한 결과를 반환받음\n",
        "print(result)  # 결과값 출력 -> 8"
      ]
    },
    {
      "cell_type": "markdown",
      "id": "87219767",
      "metadata": {
        "id": "87219767"
      },
      "source": [
        "## 01-007 Python: 기본 매개변수를 사용하는 함수"
      ]
    },
    {
      "cell_type": "code",
      "execution_count": null,
      "id": "28650805",
      "metadata": {
        "colab": {
          "base_uri": "https://localhost:8080/"
        },
        "id": "28650805",
        "outputId": "ef52a0c9-73a0-4976-af04-3265a3e8e685"
      },
      "outputs": [
        {
          "output_type": "stream",
          "name": "stdout",
          "text": [
            "Welcome Guest!\n",
            "Welcome to AI Essential!\n"
          ]
        }
      ],
      "source": [
        "# 기본 매개변수를 사용하는 함수 정의\n",
        "def welcome(name='Guest'):  # 기본값이 'Guest'인 매개변수 name\n",
        "    return f'Welcome {name}!'  # name 값을 사용해 환영 메시지 반환\n",
        "\n",
        "# 함수 호출 및 결과 출력\n",
        "print(welcome())  # 매개변수를 전달하지 않으면 기본값 'Guest'가 사용됨 -> 'Welcome Guest!'\n",
        "print(welcome('to AI Essential'))  # 'to AI Essential' 값을 전달 -> 'Welcome to AI Essential!'"
      ]
    },
    {
      "cell_type": "markdown",
      "id": "ce207703",
      "metadata": {
        "id": "ce207703"
      },
      "source": [
        "## 01-008 Python: 모듈 생성 및 사용"
      ]
    },
    {
      "cell_type": "code",
      "execution_count": null,
      "id": "914dee08",
      "metadata": {
        "colab": {
          "base_uri": "https://localhost:8080/"
        },
        "id": "914dee08",
        "outputId": "6d38688d-9ace-4ee9-f7fc-2b6a99533611"
      },
      "outputs": [
        {
          "output_type": "stream",
          "name": "stdout",
          "text": [
            "Writing mymodule.py\n"
          ]
        }
      ],
      "source": [
        "%%writefile mymodule.py\n",
        "# mymodule.py\n",
        "def welcome(name='Guest'):\n",
        "    return f'Welcome {name}!'  # 기본값을 사용하여 환영 메시지 반환\n",
        "\n",
        "def add(a, b):\n",
        "    return a + b  # 두 값을 더한 결과를 반환"
      ]
    },
    {
      "cell_type": "markdown",
      "id": "443334b1",
      "metadata": {
        "id": "443334b1"
      },
      "source": [
        "## 01-009 Python: 모듈을 사용하여 함수 호출하기"
      ]
    },
    {
      "cell_type": "code",
      "execution_count": null,
      "id": "98747b62",
      "metadata": {
        "colab": {
          "base_uri": "https://localhost:8080/"
        },
        "id": "98747b62",
        "outputId": "a2328ce8-8cf0-4fa8-a684-a8f9f09275f1"
      },
      "outputs": [
        {
          "output_type": "stream",
          "name": "stdout",
          "text": [
            "Welcome to AI Essential!\n",
            "8\n"
          ]
        }
      ],
      "source": [
        "# mymodule 모듈을 import\n",
        "import mymodule\n",
        "\n",
        "# 모듈 내 함수 호출\n",
        "print(mymodule.welcome('to AI Essential'))  # 'Welcome to AI Essential!' 출력\n",
        "print(mymodule.add(3, 5))  # 3 + 5 = 8 출력"
      ]
    },
    {
      "cell_type": "markdown",
      "id": "d48e9a29",
      "metadata": {
        "id": "d48e9a29"
      },
      "source": [
        "## 01-010 Python: 모듈을 별칭으로 불러오기"
      ]
    },
    {
      "cell_type": "code",
      "execution_count": null,
      "id": "b4d47074",
      "metadata": {
        "colab": {
          "base_uri": "https://localhost:8080/"
        },
        "id": "b4d47074",
        "outputId": "fb570795-839a-4f9c-e23d-f54e666961b7"
      },
      "outputs": [
        {
          "output_type": "stream",
          "name": "stdout",
          "text": [
            "Welcome to AI Essential!\n",
            "8\n"
          ]
        }
      ],
      "source": [
        "# mymodule 모듈을 별칭 'mm'으로 import\n",
        "import mymodule as mm\n",
        "\n",
        "# 모듈의 함수를 별칭을 사용하여 호출\n",
        "print(mm.welcome('to AI Essential'))  # 'Welcome to AI Essential!' 출력\n",
        "print(mm.add(3, 5))  # 3 + 5 = 8 출력"
      ]
    },
    {
      "cell_type": "markdown",
      "id": "b0bc1b04",
      "metadata": {
        "id": "b0bc1b04"
      },
      "source": [
        "## 01-011 Python: 모듈에서 특정 함수만 불러오기"
      ]
    },
    {
      "cell_type": "code",
      "execution_count": null,
      "id": "26fde30c",
      "metadata": {
        "id": "26fde30c",
        "outputId": "f1281847-1fca-4bae-93d1-1579c611fa33",
        "colab": {
          "base_uri": "https://localhost:8080/"
        }
      },
      "outputs": [
        {
          "output_type": "stream",
          "name": "stdout",
          "text": [
            "Welcome to AI Essential!\n",
            "8\n"
          ]
        }
      ],
      "source": [
        "# mymodule 모듈에서 특정 함수만 불러오기\n",
        "from mymodule import welcome, add\n",
        "\n",
        "# welcome 함수 호출\n",
        "print(welcome('to AI Essential'))  # 'Welcome to AI Essential!' 출력\n",
        "\n",
        "# add 함수 호출\n",
        "print(add(3, 5))  # 3 + 5 = 8 출력"
      ]
    },
    {
      "cell_type": "markdown",
      "id": "fa454d1b",
      "metadata": {
        "id": "fa454d1b"
      },
      "source": [
        "---"
      ]
    },
    {
      "cell_type": "markdown",
      "id": "d542dc1c",
      "metadata": {
        "id": "d542dc1c"
      },
      "source": [
        "# 02. PyTorch Tensor"
      ]
    },
    {
      "cell_type": "markdown",
      "id": "949d1ba9",
      "metadata": {
        "id": "949d1ba9"
      },
      "source": [
        "## 02-001 PyTorch 라이브러리 임포트"
      ]
    },
    {
      "cell_type": "code",
      "execution_count": null,
      "id": "07b52b21",
      "metadata": {
        "id": "07b52b21"
      },
      "outputs": [],
      "source": [
        "import torch  # PyTorch 라이브러리 임포트"
      ]
    },
    {
      "cell_type": "markdown",
      "id": "b76a7af4",
      "metadata": {
        "id": "b76a7af4"
      },
      "source": [
        "## 02-002 1D 텐서 생성 및 출력"
      ]
    },
    {
      "cell_type": "code",
      "execution_count": null,
      "id": "8d79d288",
      "metadata": {
        "colab": {
          "base_uri": "https://localhost:8080/"
        },
        "id": "8d79d288",
        "outputId": "16bb43b8-79cf-4832-b670-53fa29b77908"
      },
      "outputs": [
        {
          "data": {
            "text/plain": [
              "tensor([1., 2., 3.])"
            ]
          },
          "execution_count": 10,
          "metadata": {},
          "output_type": "execute_result"
        }
      ],
      "source": [
        "# 1차원 텐서를 생성 (값: 1.0, 2.0, 3.0)\n",
        "tensor_1d = torch.tensor([1.0, 2.0, 3.0])\n",
        "tensor_1d\n",
        "# 생성된 텐서를 출력 -> tensor([1., 2., 3.])"
      ]
    },
    {
      "cell_type": "markdown",
      "id": "36ced722",
      "metadata": {
        "id": "36ced722"
      },
      "source": [
        "## 02-003 2D 텐서 생성 및 출력"
      ]
    },
    {
      "cell_type": "code",
      "execution_count": null,
      "id": "10498645",
      "metadata": {
        "colab": {
          "base_uri": "https://localhost:8080/"
        },
        "id": "10498645",
        "outputId": "aab40dd5-3f32-4269-b4de-ecb21783ec22"
      },
      "outputs": [
        {
          "data": {
            "text/plain": [
              "tensor([[1., 2.],\n",
              "        [3., 4.]])"
            ]
          },
          "execution_count": 11,
          "metadata": {},
          "output_type": "execute_result"
        }
      ],
      "source": [
        "# 2차원 텐서를 생성 (값: [[1.0, 2.0], [3.0, 4.0]])\n",
        "tensor_2d = torch.tensor([[1.0, 2.0],\n",
        "                          [3.0, 4.0]])\n",
        "tensor_2d\n",
        "# 생성된 텐서를 출력 ->tensor([[1., 2.],\n",
        "#                           [3., 4.]])"
      ]
    },
    {
      "cell_type": "markdown",
      "id": "ad9d68bf",
      "metadata": {
        "id": "ad9d68bf"
      },
      "source": [
        "## 02-004 텐서를 GPU로 이동"
      ]
    },
    {
      "cell_type": "code",
      "execution_count": null,
      "id": "8b9ef0ec",
      "metadata": {
        "colab": {
          "base_uri": "https://localhost:8080/"
        },
        "id": "8b9ef0ec",
        "outputId": "8be65623-2465-4ce5-ce8f-cb816baf4f8b"
      },
      "outputs": [
        {
          "data": {
            "text/plain": [
              "device(type='cpu')"
            ]
          },
          "execution_count": 12,
          "metadata": {},
          "output_type": "execute_result"
        }
      ],
      "source": [
        "device = 'cuda' if torch.cuda.is_available() else 'cpu' # GPU 사용 가능 여부 확인\n",
        "tensor_1d = tensor_1d.to(device)  # 1D 텐서 GPU로 이동\n",
        "tensor_1d.device"
      ]
    },
    {
      "cell_type": "markdown",
      "id": "c51de27b",
      "metadata": {
        "id": "c51de27b"
      },
      "source": [
        "## 02-005 텐서 생성 및 dtype 지정"
      ]
    },
    {
      "cell_type": "code",
      "execution_count": null,
      "id": "c6898393",
      "metadata": {
        "colab": {
          "base_uri": "https://localhost:8080/"
        },
        "id": "c6898393",
        "outputId": "400f098b-da27-4280-df6a-d9ae79274340"
      },
      "outputs": [
        {
          "data": {
            "text/plain": [
              "tensor([1., 2., 3.], dtype=torch.float64)"
            ]
          },
          "execution_count": 13,
          "metadata": {},
          "output_type": "execute_result"
        }
      ],
      "source": [
        "tensor_1d = torch.tensor([1, 2, 3], dtype=torch.float64)  # dtype을 float64로 지정\n",
        "tensor_1d  # 텐서 출력 -> tensor([1., 2., 3.], dtype=torch.float64)"
      ]
    },
    {
      "cell_type": "code",
      "execution_count": null,
      "id": "0e3b7159",
      "metadata": {
        "colab": {
          "base_uri": "https://localhost:8080/"
        },
        "id": "0e3b7159",
        "outputId": "d232823b-cb87-4a6d-893d-36d6720867b0"
      },
      "outputs": [
        {
          "data": {
            "text/plain": [
              "tensor([1, 2, 3])"
            ]
          },
          "execution_count": 14,
          "metadata": {},
          "output_type": "execute_result"
        }
      ],
      "source": [
        "tensor_1d = tensor_1d.to(torch.int64)  # dtype을 int64로 지정\n",
        "tensor_1d  # 텐서 출력 -> tensor([1, 2, 3])"
      ]
    },
    {
      "cell_type": "markdown",
      "id": "cc05520f",
      "metadata": {
        "id": "cc05520f"
      },
      "source": [
        "## 02-006 4차원 텐서의 2차원 변환"
      ]
    },
    {
      "cell_type": "code",
      "execution_count": null,
      "id": "36a8ebb0",
      "metadata": {
        "colab": {
          "base_uri": "https://localhost:8080/"
        },
        "id": "36a8ebb0",
        "outputId": "852d8d0e-321b-4137-c920-9a237be52384"
      },
      "outputs": [
        {
          "data": {
            "text/plain": [
              "torch.Size([10, 64, 7, 7])"
            ]
          },
          "execution_count": 15,
          "metadata": {},
          "output_type": "execute_result"
        }
      ],
      "source": [
        "x = torch.randn(10, 64, 7, 7)  # 4차원 텐서 생성: (10, 64, 7, 7)\n",
        "x.shape"
      ]
    },
    {
      "cell_type": "code",
      "execution_count": null,
      "id": "aab8fdda",
      "metadata": {
        "colab": {
          "base_uri": "https://localhost:8080/"
        },
        "id": "aab8fdda",
        "outputId": "e6d6c262-705e-43e1-d9a1-7d7321db2d88"
      },
      "outputs": [
        {
          "data": {
            "text/plain": [
              "torch.Size([10, 3136])"
            ]
          },
          "execution_count": 16,
          "metadata": {},
          "output_type": "execute_result"
        }
      ],
      "source": [
        "y = x.reshape(x.shape[0], -1)  # 텐서를 (10, 64 * 7 * 7)으로 변환, 즉 2차원 텐서로 변경\n",
        "# -1은 나머지 차원을 자동으로 계산하게 하여 (10, 3136)으로 변경\n",
        "y.shape  # y의 차원은 (10, 3136)"
      ]
    },
    {
      "cell_type": "markdown",
      "id": "a8bd9f08",
      "metadata": {
        "id": "a8bd9f08"
      },
      "source": [
        "## 02-007 4차원 텐서의 차원 재배열"
      ]
    },
    {
      "cell_type": "code",
      "execution_count": null,
      "id": "ab076014",
      "metadata": {
        "colab": {
          "base_uri": "https://localhost:8080/"
        },
        "id": "ab076014",
        "outputId": "a943d0fc-9149-4cda-e391-6da1402b606f"
      },
      "outputs": [
        {
          "data": {
            "text/plain": [
              "torch.Size([10, 3, 28, 28])"
            ]
          },
          "execution_count": 17,
          "metadata": {},
          "output_type": "execute_result"
        }
      ],
      "source": [
        "x = torch.randn(10, 28, 28, 3)  # 4차원 텐서 생성: (10, 28, 28, 3)\n",
        "y = x.permute(0, 3, 1, 2)  # 차원의 순서를 (10, 3, 28, 28)로 재배열\n",
        "y.shape  # y의 차원은 (10, 3, 28, 28)"
      ]
    },
    {
      "cell_type": "markdown",
      "id": "cda3afe3",
      "metadata": {
        "id": "cda3afe3"
      },
      "source": [
        "## 02-008 1D 텐서에서 요소 선택"
      ]
    },
    {
      "cell_type": "code",
      "execution_count": null,
      "id": "9b8d3b0e",
      "metadata": {
        "colab": {
          "base_uri": "https://localhost:8080/"
        },
        "id": "9b8d3b0e",
        "outputId": "c0a1b0c2-ce1a-4829-99fb-c796425a7cd1"
      },
      "outputs": [
        {
          "name": "stdout",
          "output_type": "stream",
          "text": [
            "tensor(10)\n",
            "tensor(40)\n"
          ]
        }
      ],
      "source": [
        "# 1D 텐서 생성\n",
        "tensor_1d = torch.tensor([10, 20, 30, 40])\n",
        "\n",
        "# 첫 번째 요소 선택 (Python 인덱스는 0부터 시작)\n",
        "print(tensor_1d[0]) # 출력: tensor(10)\n",
        "\n",
        "# 마지막 요소 선택\n",
        "print(tensor_1d[-1]) # 출력: tensor(40)"
      ]
    },
    {
      "cell_type": "markdown",
      "id": "633ce2af",
      "metadata": {
        "id": "633ce2af"
      },
      "source": [
        "## 02-009 2D 텐서에서 특정 요소 선택"
      ]
    },
    {
      "cell_type": "code",
      "execution_count": null,
      "id": "5133c8c0",
      "metadata": {
        "colab": {
          "base_uri": "https://localhost:8080/"
        },
        "id": "5133c8c0",
        "outputId": "2d841e65-2ee3-4f0f-ed60-d456e81fdeb8"
      },
      "outputs": [
        {
          "name": "stdout",
          "output_type": "stream",
          "text": [
            "tensor(2)\n",
            "tensor(9)\n"
          ]
        }
      ],
      "source": [
        "# 2D 텐서 생성\n",
        "tensor_2d = torch.tensor([[1, 2, 3], [4, 5, 6], [7, 8, 9]])\n",
        "\n",
        "# 첫 번째 행, 두 번째 열 요소 선택\n",
        "print(tensor_2d[0, 1]) # 출력: tensor(2)\n",
        "\n",
        "\n",
        "# 마지막 행, 마지막 열 요소 선택\n",
        "print(tensor_2d[-1, -1])# 출력: tensor(9)"
      ]
    },
    {
      "cell_type": "markdown",
      "id": "ae8f685d",
      "metadata": {
        "id": "ae8f685d"
      },
      "source": [
        "## 02-010 1D 텐서에서 슬라이싱으로 요소 선택"
      ]
    },
    {
      "cell_type": "code",
      "execution_count": null,
      "id": "f92f4c7a",
      "metadata": {
        "colab": {
          "base_uri": "https://localhost:8080/"
        },
        "id": "f92f4c7a",
        "outputId": "77cc8fe0-f77a-4d7c-8e5b-77af09303a89"
      },
      "outputs": [
        {
          "data": {
            "text/plain": [
              "tensor([10, 20, 30, 40])"
            ]
          },
          "execution_count": 20,
          "metadata": {},
          "output_type": "execute_result"
        }
      ],
      "source": [
        "# 1D 텐서 생성\n",
        "tensor_1d = torch.tensor([10, 20, 30, 40, 50])\n",
        "\n",
        "# 처음부터 인덱스 3까지의 요소 선택\n",
        "tensor_1d[:4]  # 출력: tensor([10, 20, 30, 40])"
      ]
    },
    {
      "cell_type": "markdown",
      "id": "7b7d3fd9",
      "metadata": {
        "id": "7b7d3fd9"
      },
      "source": [
        "## 02-011 2D 텐서에서 슬라이싱으로 요소 선택"
      ]
    },
    {
      "cell_type": "code",
      "execution_count": null,
      "id": "2369451c",
      "metadata": {
        "colab": {
          "base_uri": "https://localhost:8080/"
        },
        "id": "2369451c",
        "outputId": "7d53ba94-1513-4b7a-c678-7d91358d565b"
      },
      "outputs": [
        {
          "name": "stdout",
          "output_type": "stream",
          "text": [
            "tensor([1, 2, 3])\n",
            "tensor([1, 4, 7])\n"
          ]
        }
      ],
      "source": [
        "# 2D 텐서 슬라이싱\n",
        "tensor_2d = torch.tensor([[1, 2, 3], [4, 5, 6], [7, 8, 9]])\n",
        "\n",
        "# 첫 번째 행 선택\n",
        "print(tensor_2d[0, :])  # 출력: tensor([1, 2, 3])\n",
        "\n",
        "# 첫 번째 열 선택\n",
        "print(tensor_2d[:, 0])  # 출력: tensor([1, 4, 7])"
      ]
    },
    {
      "cell_type": "markdown",
      "id": "33f6a157",
      "metadata": {
        "id": "33f6a157"
      },
      "source": [
        "## 02-012 1D 텐서에서 특정 요소 수정"
      ]
    },
    {
      "cell_type": "code",
      "execution_count": null,
      "id": "75430ea1",
      "metadata": {
        "colab": {
          "base_uri": "https://localhost:8080/"
        },
        "id": "75430ea1",
        "outputId": "7fe8c337-1433-4b06-9c8d-879fceb1a00e"
      },
      "outputs": [
        {
          "name": "stdout",
          "output_type": "stream",
          "text": [
            "tensor([100,  20,  30,  40,  50])\n",
            "tensor([100, 200, 300, 400,  50])\n"
          ]
        }
      ],
      "source": [
        "# 1D 텐서 생성\n",
        "tensor = torch.tensor([10, 20, 30, 40, 50])\n",
        "\n",
        "# 인덱스 0 위치의 요소 수정\n",
        "tensor[0] = 100\n",
        "print(tensor)  # 출력: tensor([100,  20,  30,  40,  50])\n",
        "\n",
        "\n",
        "# 인덱스 1부터 3까지의 요소 수정\n",
        "tensor[1:4] = torch.tensor([200, 300, 400])\n",
        "print(tensor)  # 출력: tensor([100, 200, 300, 400,  50])"
      ]
    },
    {
      "cell_type": "markdown",
      "id": "15cfd829",
      "metadata": {
        "id": "15cfd829"
      },
      "source": [
        "## 02-013 2D 텐서에서 행의 값 수정"
      ]
    },
    {
      "cell_type": "code",
      "execution_count": null,
      "id": "019f0312",
      "metadata": {
        "colab": {
          "base_uri": "https://localhost:8080/"
        },
        "id": "019f0312",
        "outputId": "d9ac36c2-94e6-41c4-87fc-06916b4983b2"
      },
      "outputs": [
        {
          "name": "stdout",
          "output_type": "stream",
          "text": [
            "tensor([[0, 0, 0],\n",
            "        [4, 5, 6],\n",
            "        [7, 8, 9]])\n"
          ]
        }
      ],
      "source": [
        "# 2D 텐서 생성\n",
        "tensor_2d = torch.tensor([[1, 2, 3], [4, 5, 6], [7, 8, 9]])\n",
        "\n",
        "# 첫 번째 행을 모두 0으로 수정\n",
        "tensor_2d[0, :] = 0\n",
        "print(tensor_2d)\n",
        "# 출력: tensor([[0, 0, 0],\n",
        "#               [4, 5, 6],\n",
        "#               [7, 8, 9]])"
      ]
    },
    {
      "cell_type": "markdown",
      "id": "e7275851",
      "metadata": {
        "id": "e7275851"
      },
      "source": [
        "## 02-014 요소별 덧셈"
      ]
    },
    {
      "cell_type": "code",
      "execution_count": null,
      "id": "6caabde3",
      "metadata": {
        "colab": {
          "base_uri": "https://localhost:8080/"
        },
        "id": "6caabde3",
        "outputId": "4211af82-a755-4d7a-fa00-793ebc28fc14"
      },
      "outputs": [
        {
          "data": {
            "text/plain": [
              "tensor([5, 7, 9])"
            ]
          },
          "execution_count": 24,
          "metadata": {},
          "output_type": "execute_result"
        }
      ],
      "source": [
        "# Tensor 생성\n",
        "x = torch.tensor([1, 2, 3])\n",
        "y = torch.tensor([4, 5, 6])\n",
        "\n",
        "# 요소별 덧셈\n",
        "add_result = x + y  # 또는 torch.add(x, y)\n",
        "add_result  # 출력: tensor([5, 7, 9])"
      ]
    },
    {
      "cell_type": "markdown",
      "id": "af2ec1c4",
      "metadata": {
        "id": "af2ec1c4"
      },
      "source": [
        "## 02-015 브로드캐스팅을 통한 요소별 덧셈"
      ]
    },
    {
      "cell_type": "code",
      "execution_count": null,
      "id": "f76fceb8",
      "metadata": {
        "colab": {
          "base_uri": "https://localhost:8080/"
        },
        "id": "f76fceb8",
        "outputId": "18edb0a0-2afe-420d-bcdd-0442740ecc49"
      },
      "outputs": [
        {
          "data": {
            "text/plain": [
              "tensor([[2, 4, 6],\n",
              "        [5, 7, 9]])"
            ]
          },
          "execution_count": 25,
          "metadata": {},
          "output_type": "execute_result"
        }
      ],
      "source": [
        "# Tensor 생성\n",
        "x = torch.tensor([[1, 2, 3], [4, 5, 6]])\n",
        "y = torch.tensor([1, 2, 3])\n",
        "\n",
        "# 브로드캐스팅을 통한 요소별 덧셈\n",
        "result = x + y\n",
        "result\n",
        "# 출력: tensor([[2, 4, 6],\n",
        "#               [5, 7, 9]])"
      ]
    },
    {
      "cell_type": "markdown",
      "id": "9423ab79",
      "metadata": {
        "id": "9423ab79"
      },
      "source": [
        "## 02-016 텐서에서 최대값 구하기"
      ]
    },
    {
      "cell_type": "code",
      "execution_count": null,
      "id": "bfa81d77",
      "metadata": {
        "colab": {
          "base_uri": "https://localhost:8080/"
        },
        "id": "bfa81d77",
        "outputId": "69f5a6e1-9ae2-4beb-abbd-1d92bfafa9cb"
      },
      "outputs": [
        {
          "name": "stdout",
          "output_type": "stream",
          "text": [
            "tensor(9)\n",
            "torch.return_types.max(\n",
            "values=tensor([7, 8, 9]),\n",
            "indices=tensor([0, 1, 2]))\n",
            "tensor([7, 8, 6])\n"
          ]
        }
      ],
      "source": [
        "# Tensor 생성\n",
        "x = torch.tensor([[7, 1, 3],[2, 8, 6],[4, 5, 9]])\n",
        "# tensor([[7, 1, 3],\n",
        "#         [2, 8, 6],\n",
        "#         [4, 5, 9]])\n",
        "\n",
        "# 모든 요소 중 최대값\n",
        "print(torch.max(x))  # 출력: tensor(9)\n",
        "\n",
        "# 특정 차원에서 최대값과 인덱스\n",
        "print(torch.max(x, dim=1))  # 출력 : torch.return_types.max(values=tensor([7, 8, 9]), indices=tensor([0, 1, 2]))\n",
        "\n",
        "# 두 Tensor간 원소별 최대 값 반환\n",
        "print(torch.max(x[0], x[1]))  # 출력 : tensor([7, 8, 6])"
      ]
    },
    {
      "cell_type": "markdown",
      "id": "07581065",
      "metadata": {
        "id": "07581065"
      },
      "source": [
        "## 02-017  텐서에서 합계값 구하기"
      ]
    },
    {
      "cell_type": "code",
      "execution_count": null,
      "id": "c1ce6c1f",
      "metadata": {
        "colab": {
          "base_uri": "https://localhost:8080/"
        },
        "id": "c1ce6c1f",
        "outputId": "7d25bbac-a6be-4aa9-cf9f-c2cdae1d0d39"
      },
      "outputs": [
        {
          "name": "stdout",
          "output_type": "stream",
          "text": [
            "tensor(45)\n",
            "tensor([11, 16, 18])\n"
          ]
        }
      ],
      "source": [
        "# Tensor 생성\n",
        "x = torch.tensor([[7, 1, 3],[2, 8, 6],[4, 5, 9]])\n",
        "# tensor([[7, 1, 3],\n",
        "#         [2, 8, 6],\n",
        "#         [4, 5, 9]])\n",
        "\n",
        "# 모든 요소 합\n",
        "print(torch.sum(x))  # 출력: tensor(45)\n",
        "\n",
        "# 특정 차원 별 합\n",
        "print(torch.sum(x, dim=1))  # 출력 : tensor([11, 16, 18])"
      ]
    },
    {
      "cell_type": "markdown",
      "id": "c06ec169",
      "metadata": {
        "id": "c06ec169"
      },
      "source": [
        "## 연습문제-02-001 1차원 텐서 생성"
      ]
    },
    {
      "cell_type": "code",
      "execution_count": null,
      "id": "b7929006",
      "metadata": {
        "id": "b7929006",
        "scrolled": true
      },
      "outputs": [],
      "source": [
        "# 1차원 텐서 tensor_1d을 0부터 9까지의 정수로 생성\n",
        "tensor_1d =\n",
        "tensor_1d  # 생성된 텐서를 출력"
      ]
    },
    {
      "cell_type": "markdown",
      "id": "8d76e327",
      "metadata": {
        "id": "8d76e327"
      },
      "source": [
        "## 연습문제-02-002 텐서 속성 확인"
      ]
    },
    {
      "cell_type": "code",
      "execution_count": null,
      "id": "5ca77035",
      "metadata": {
        "id": "5ca77035"
      },
      "outputs": [],
      "source": [
        "# 1차원 텐서 tensor_1d의 데이터 타입과 할당된 장치, 형태를 확인합니다.\n",
        "#  dtype, device, shape\n"
      ]
    },
    {
      "cell_type": "markdown",
      "id": "58f8353e",
      "metadata": {
        "id": "58f8353e"
      },
      "source": [
        "## 연습문제-02-003 텐서의 크기 변경"
      ]
    },
    {
      "cell_type": "code",
      "execution_count": null,
      "id": "d0a68e0a",
      "metadata": {
        "id": "d0a68e0a"
      },
      "outputs": [],
      "source": [
        "# 1차원 텐서 tensor_1d의 크기를 2x5로 변경\n",
        "tensor_2x5 =  # 1차원 텐서를 2x5 텐서로 변경\n",
        "tensor_2x5"
      ]
    },
    {
      "cell_type": "markdown",
      "id": "7d6cbcf5",
      "metadata": {
        "id": "7d6cbcf5"
      },
      "source": [
        "## 연습문제-02-004 텐서에서 최대값과 위치 찾기"
      ]
    },
    {
      "cell_type": "code",
      "execution_count": null,
      "id": "ebcb6e6e",
      "metadata": {
        "id": "ebcb6e6e",
        "outputId": "fd7a1895-f211-4f15-9803-8e59e44766cc"
      },
      "outputs": [
        {
          "name": "stdout",
          "output_type": "stream",
          "text": [
            "\n",
            "\n",
            "\n"
          ]
        }
      ],
      "source": [
        "# 모든 요소 중 최대값\n",
        "print( )  # 출력: tensor(9)\n",
        "\n",
        "# 특정 차원에서 최대값과 인덱스\n",
        "print( )  # 출력 : torch.return_types.max(values=tensor([4, 9]), indices=tensor([4, 4]))\n",
        "\n",
        "# 두 Tensor간 원소별 최대 값 반환\n",
        "print( )  # 출력 : tensor([5, 6, 7, 8, 9])"
      ]
    },
    {
      "cell_type": "markdown",
      "id": "a6a7a06f",
      "metadata": {
        "id": "a6a7a06f"
      },
      "source": [
        "---"
      ]
    },
    {
      "cell_type": "markdown",
      "id": "77cd770e",
      "metadata": {
        "id": "77cd770e"
      },
      "source": [
        "# 03. 인공지능"
      ]
    },
    {
      "cell_type": "markdown",
      "id": "44497160",
      "metadata": {
        "id": "44497160"
      },
      "source": [
        "## 03-001 모듈 불러오기"
      ]
    },
    {
      "cell_type": "code",
      "execution_count": null,
      "id": "486cd89d",
      "metadata": {
        "id": "486cd89d"
      },
      "outputs": [],
      "source": [
        "%%capture\n",
        "!pip install JAEN -qU"
      ]
    },
    {
      "cell_type": "code",
      "execution_count": null,
      "id": "14274cac",
      "metadata": {
        "id": "14274cac"
      },
      "outputs": [],
      "source": [
        "# 모듈 설정\n",
        "import torch\n",
        "from JAEN.utils import plot_activation_function"
      ]
    },
    {
      "cell_type": "markdown",
      "id": "9167ac0b",
      "metadata": {
        "id": "9167ac0b"
      },
      "source": [
        "## 03-002 시그모이드 활성화 함수 구현 및 시각화"
      ]
    },
    {
      "cell_type": "code",
      "execution_count": null,
      "id": "5fddd9b6",
      "metadata": {
        "colab": {
          "base_uri": "https://localhost:8080/",
          "height": 719
        },
        "id": "5fddd9b6",
        "outputId": "8680fd27-37c0-4712-d952-58e59c97b141"
      },
      "outputs": [
        {
          "data": {
            "image/png": "[encoded data removed]",
            "text/plain": [
              "<Figure size 600x400 with 1 Axes>"
            ]
          },
          "metadata": {},
          "output_type": "display_data"
        },
        {
          "data": {
            "image/png": "[encoded data removed]",
            "text/plain": [
              "<Figure size 600x400 with 1 Axes>"
            ]
          },
          "metadata": {},
          "output_type": "display_data"
        }
      ],
      "source": [
        "def sigmoid(x):\n",
        "    return 1 / (1 + torch.exp(-x))\n",
        "\n",
        "plot_activation_function(sigmoid)\n",
        "plot_activation_function(torch.sigmoid)"
      ]
    },
    {
      "cell_type": "markdown",
      "id": "2792caa0",
      "metadata": {
        "id": "2792caa0"
      },
      "source": [
        "## 03-003 Tanh 활성화 함수 구현 및 시각화"
      ]
    },
    {
      "cell_type": "code",
      "execution_count": null,
      "id": "06be52dc",
      "metadata": {
        "colab": {
          "base_uri": "https://localhost:8080/",
          "height": 719
        },
        "id": "06be52dc",
        "outputId": "eae718bb-0e6b-4ddf-815a-63709efab951"
      },
      "outputs": [
        {
          "data": {
            "image/png": "[encoded data removed]",
            "text/plain": [
              "<Figure size 600x400 with 1 Axes>"
            ]
          },
          "metadata": {},
          "output_type": "display_data"
        },
        {
          "data": {
            "image/png": "[encoded data removed]",
            "text/plain": [
              "<Figure size 600x400 with 1 Axes>"
            ]
          },
          "metadata": {},
          "output_type": "display_data"
        }
      ],
      "source": [
        "def tanh(x):\n",
        "    return (torch.exp(x) - torch.exp(-x)) / (torch.exp(x) + torch.exp(-x))\n",
        "\n",
        "plot_activation_function(tanh)\n",
        "plot_activation_function(torch.tanh)"
      ]
    },
    {
      "cell_type": "markdown",
      "id": "d3dda23e",
      "metadata": {
        "id": "d3dda23e"
      },
      "source": [
        "## 03-004 ReLU 활성화 함수 구현 및 시각화"
      ]
    },
    {
      "cell_type": "code",
      "execution_count": null,
      "id": "6bf865f3",
      "metadata": {
        "colab": {
          "base_uri": "https://localhost:8080/",
          "height": 719
        },
        "id": "6bf865f3",
        "outputId": "c5ba1ff8-0f0e-4644-e8c5-31af516fbb3d"
      },
      "outputs": [
        {
          "data": {
            "image/png": "[encoded data removed]",
            "text/plain": [
              "<Figure size 600x400 with 1 Axes>"
            ]
          },
          "metadata": {},
          "output_type": "display_data"
        },
        {
          "data": {
            "image/png": "[encoded data removed]",
            "text/plain": [
              "<Figure size 600x400 with 1 Axes>"
            ]
          },
          "metadata": {},
          "output_type": "display_data"
        }
      ],
      "source": [
        "def relu(x):\n",
        "    return torch.max(torch.tensor(0.0), x)\n",
        "\n",
        "plot_activation_function(relu)\n",
        "plot_activation_function(torch.relu)"
      ]
    },
    {
      "cell_type": "code",
      "execution_count": null,
      "id": "74a3843d",
      "metadata": {
        "colab": {
          "base_uri": "https://localhost:8080/"
        },
        "id": "74a3843d",
        "outputId": "c99a66c1-72b1-46a5-c7cf-abae2be309f7"
      },
      "outputs": [
        {
          "data": {
            "text/plain": [
              "tensor([4., 6.])"
            ]
          },
          "execution_count": 37,
          "metadata": {},
          "output_type": "execute_result"
        }
      ],
      "source": [
        "# x에 대한 z의 그래디언트 (z가 x에 대해 어떻게 변화하는지를 계산, 편미분 수행)\n",
        "x.grad  # 출력: tensor([4., 6.])\n",
        "\n",
        "# z = x1^2 + x2^2\n",
        "# dz/dx1 = 2 * x1 = 2 * 2 = 4\n",
        "# dz/dx2 = 2 * x2 = 2 * 3 = 6"
      ]
    },
    {
      "cell_type": "markdown",
      "id": "a0f33a2c",
      "metadata": {
        "id": "a0f33a2c"
      },
      "source": [
        "## 03-005 DataLoader와 Dataset 모듈 임포트"
      ]
    },
    {
      "cell_type": "code",
      "execution_count": null,
      "id": "ee2d3d24",
      "metadata": {
        "id": "ee2d3d24"
      },
      "outputs": [],
      "source": [
        "import torch\n",
        "from torch.utils.data import DataLoader, Dataset"
      ]
    },
    {
      "cell_type": "markdown",
      "id": "c6e58fb1",
      "metadata": {
        "id": "c6e58fb1"
      },
      "source": [
        "## 03-006 커스텀 데이터셋 클래스 구현"
      ]
    },
    {
      "cell_type": "code",
      "execution_count": null,
      "id": "03b6b22d",
      "metadata": {
        "id": "03b6b22d"
      },
      "outputs": [],
      "source": [
        "class CustomDataset(Dataset):\n",
        "    def __init__(self, data, labels):\n",
        "        self.data = data\n",
        "        self.labels = labels\n",
        "\n",
        "    def __len__(self):\n",
        "        return len(self.data)\n",
        "\n",
        "    def __getitem__(self, idx):\n",
        "        x = self.data[idx]\n",
        "        y = self.labels[idx]\n",
        "        return x, y"
      ]
    },
    {
      "cell_type": "markdown",
      "id": "3afef532",
      "metadata": {
        "id": "3afef532"
      },
      "source": [
        "## 03-007 커스텀 데이터셋과 DataLoader 생성"
      ]
    },
    {
      "cell_type": "code",
      "execution_count": null,
      "id": "cafe5b85",
      "metadata": {
        "id": "cafe5b85"
      },
      "outputs": [],
      "source": [
        "# 예시 데이터\n",
        "data = torch.randn(100, 3)  # 100개의 샘플, 각 샘플은 3차원 벡터\n",
        "labels = torch.randint(0, 2, (100,))  # 이진 분류를 위한 100개의 레이블\n",
        "\n",
        "# 데이터셋 및 DataLoader 생성\n",
        "dataset = CustomDataset(data, labels)\n",
        "dataloader = DataLoader(dataset, batch_size=32)"
      ]
    },
    {
      "cell_type": "markdown",
      "id": "2c8ded2a",
      "metadata": {
        "id": "2c8ded2a"
      },
      "source": [
        "## 03-008 DataLoader에서 배치 조회"
      ]
    },
    {
      "cell_type": "code",
      "execution_count": null,
      "id": "1ccce4e9",
      "metadata": {
        "colab": {
          "base_uri": "https://localhost:8080/"
        },
        "id": "1ccce4e9",
        "outputId": "d1474ed7-c0f2-4f64-a03b-496439fcff73"
      },
      "outputs": [
        {
          "name": "stdout",
          "output_type": "stream",
          "text": [
            "torch.Size([32, 3]) torch.Size([32])\n",
            "torch.Size([32, 3]) torch.Size([32])\n",
            "torch.Size([32, 3]) torch.Size([32])\n",
            "torch.Size([4, 3]) torch.Size([4])\n"
          ]
        }
      ],
      "source": [
        "for x, y in dataloader:\n",
        "    print(x.shape, y.shape)"
      ]
    },
    {
      "cell_type": "markdown",
      "id": "cc522b27",
      "metadata": {
        "id": "cc522b27"
      },
      "source": [
        "## 03-009 DataLoader에서 마지막 배치 조회"
      ]
    },
    {
      "cell_type": "code",
      "execution_count": null,
      "id": "32013660",
      "metadata": {
        "colab": {
          "base_uri": "https://localhost:8080/"
        },
        "id": "32013660",
        "outputId": "6d408f5f-0bf8-4b65-9734-f3d2c7c681f2"
      },
      "outputs": [
        {
          "data": {
            "text/plain": [
              "(tensor([[ 1.7092,  0.2655,  0.8169],\n",
              "         [ 1.2460,  0.1583, -1.2366],\n",
              "         [-1.9218, -1.4501, -0.5933],\n",
              "         [ 0.7153,  1.6208,  0.0038]]),\n",
              " tensor([1, 1, 1, 0]))"
            ]
          },
          "execution_count": 15,
          "metadata": {},
          "output_type": "execute_result"
        }
      ],
      "source": [
        "x, y"
      ]
    },
    {
      "cell_type": "markdown",
      "id": "5d3ffb12",
      "metadata": {
        "id": "5d3ffb12"
      },
      "source": [
        "## 03-010 DataLoader에서 변경된 배치 크기로 마지막 배치 조회"
      ]
    },
    {
      "cell_type": "code",
      "execution_count": null,
      "id": "060fe649",
      "metadata": {
        "colab": {
          "base_uri": "https://localhost:8080/"
        },
        "id": "060fe649",
        "outputId": "e40c5780-a47b-4269-ecc0-0f42933b1ada"
      },
      "outputs": [
        {
          "name": "stdout",
          "output_type": "stream",
          "text": [
            "torch.Size([64, 3]) torch.Size([64])\n",
            "torch.Size([36, 3]) torch.Size([36])\n"
          ]
        },
        {
          "data": {
            "text/plain": [
              "(tensor([[ 1.7092,  0.2655,  0.8169],\n",
              "         [ 1.2460,  0.1583, -1.2366],\n",
              "         [-1.9218, -1.4501, -0.5933],\n",
              "         [ 0.7153,  1.6208,  0.0038]]),\n",
              " tensor([1, 1, 1, 0]))"
            ]
          },
          "execution_count": 19,
          "metadata": {},
          "output_type": "execute_result"
        }
      ],
      "source": [
        "dataloader = DataLoader(dataset, batch_size=64)\n",
        "for x, y in dataloader:\n",
        "    print(x.shape, y.shape)\n",
        "\n",
        "x[-4:], y[-4:] # 마지막 미니 배치의 마지막 4개 샘플 조회"
      ]
    },
    {
      "cell_type": "markdown",
      "id": "191fb1ce",
      "metadata": {
        "id": "191fb1ce"
      },
      "source": [
        "## 03-011 셔플된 DataLoader에서 마지막 배치 조회"
      ]
    },
    {
      "cell_type": "code",
      "execution_count": null,
      "id": "9eb974fe",
      "metadata": {
        "colab": {
          "base_uri": "https://localhost:8080/"
        },
        "id": "9eb974fe",
        "outputId": "53cc581c-119a-454d-819f-2cf6e579e7ec"
      },
      "outputs": [
        {
          "name": "stdout",
          "output_type": "stream",
          "text": [
            "torch.Size([64, 3]) torch.Size([64])\n",
            "torch.Size([36, 3]) torch.Size([36])\n"
          ]
        },
        {
          "data": {
            "text/plain": [
              "(tensor([[ 0.6908,  1.2050, -0.6878],\n",
              "         [ 0.9182, -0.3263, -0.3469],\n",
              "         [-0.0439, -1.3071, -0.8981],\n",
              "         [ 1.1443,  0.0949, -0.1327]]),\n",
              " tensor([1, 1, 0, 1]))"
            ]
          },
          "execution_count": 27,
          "metadata": {},
          "output_type": "execute_result"
        }
      ],
      "source": [
        "dataloader = DataLoader(dataset, batch_size=64, shuffle=True)\n",
        "for x, y in dataloader:\n",
        "    print(x.shape, y.shape)\n",
        "x[-4:], y[-4:] # 마지막 미니 배치의 마지막 4개 샘플 조회 > 값 변경 확인"
      ]
    },
    {
      "cell_type": "code",
      "execution_count": null,
      "id": "66aa9fa2",
      "metadata": {
        "id": "66aa9fa2",
        "outputId": "d60576fc-aa6e-4e91-a115-18422e698cda"
      },
      "outputs": [
        {
          "name": "stdout",
          "output_type": "stream",
          "text": [
            "torch.Size([64, 3]) torch.Size([64])\n",
            "torch.Size([36, 3]) torch.Size([36])\n"
          ]
        },
        {
          "data": {
            "text/plain": [
              "(tensor([[ 0.1419,  0.3007, -0.4308],\n",
              "         [ 1.5902,  1.0426,  0.8563],\n",
              "         [ 0.4460, -0.0020,  0.4521],\n",
              "         [ 0.3215, -1.6828, -0.4506]]),\n",
              " tensor([0, 0, 0, 0]))"
            ]
          },
          "execution_count": 28,
          "metadata": {},
          "output_type": "execute_result"
        }
      ],
      "source": [
        "for x, y in dataloader: # dataloader가 사용되는 시점에서 셔플이 적용됨\n",
        "    print(x.shape, y.shape)\n",
        "x[-4:], y[-4:] # 마지막 미니 배치의 마지막 4개 샘플 조회 > 값 변경 확인"
      ]
    },
    {
      "cell_type": "markdown",
      "id": "18b82ae0",
      "metadata": {
        "id": "18b82ae0"
      },
      "source": [
        "## 03-012 마지막 배치를 버리는 DataLoader에서 마지막 배치 조회"
      ]
    },
    {
      "cell_type": "code",
      "execution_count": null,
      "id": "513c2187",
      "metadata": {
        "colab": {
          "base_uri": "https://localhost:8080/"
        },
        "id": "513c2187",
        "outputId": "7c70dcb6-12a8-454d-998b-7c5a83638782"
      },
      "outputs": [
        {
          "name": "stdout",
          "output_type": "stream",
          "text": [
            "torch.Size([64, 3]) torch.Size([64])\n"
          ]
        }
      ],
      "source": [
        "dataloader = DataLoader(dataset, batch_size=64, shuffle=True, drop_last=True)\n",
        "for x, y in dataloader:\n",
        "    print(x.shape, y.shape)"
      ]
    },
    {
      "cell_type": "markdown",
      "id": "6430f480",
      "metadata": {
        "id": "6430f480"
      },
      "source": [
        "## 연습문제-03-001 커스텀 데이터셋과 DataLoader 생성"
      ]
    },
    {
      "cell_type": "code",
      "execution_count": null,
      "id": "e3cce9b0",
      "metadata": {
        "id": "e3cce9b0"
      },
      "outputs": [],
      "source": [
        "# 새로운 랜덤 데이터 생성\n",
        "data = torch.randn(150, 4)  # 150개의 샘플, 각 샘플은 4차원 벡터\n",
        "labels = torch.randint(0, 3, (150,))  # 3개의 클래스로 분류되는 150개의 레이블\n",
        "\n",
        "# 커스텀 데이터셋과 DataLoader 생성\n",
        "# 커스텀 데이터셋 클래스는 03-011 재활용\n",
        "dataset =\n",
        "\n",
        "# 미니 배치 크기는 5\n",
        "dataloader ="
      ]
    },
    {
      "cell_type": "markdown",
      "id": "80083330",
      "metadata": {
        "id": "80083330"
      },
      "source": [
        "## 연습문제-03-002 DataLoader에서 배치 조회"
      ]
    },
    {
      "cell_type": "code",
      "execution_count": null,
      "id": "1a84f9a3",
      "metadata": {
        "id": "1a84f9a3"
      },
      "outputs": [],
      "source": [
        "# DataLoader에서 첫 번째 배치 조회\n"
      ]
    },
    {
      "cell_type": "markdown",
      "id": "0a286c54",
      "metadata": {
        "id": "0a286c54"
      },
      "source": [
        "## 연습문제-03-003 DataLoader에서 마지막 배치 조회 (새로운 배치 크기)"
      ]
    },
    {
      "cell_type": "code",
      "execution_count": null,
      "id": "57d86325",
      "metadata": {
        "id": "57d86325"
      },
      "outputs": [],
      "source": [
        "# DataLoader에서 배치 크기를 7로 설정\n",
        "\n",
        "\n",
        "# DataLoader에서 마지막 배치 조회\n"
      ]
    },
    {
      "cell_type": "markdown",
      "id": "2a64291e",
      "metadata": {
        "id": "2a64291e"
      },
      "source": [
        "## 연습문제-03-004 셔플된 DataLoader에서 마지막 배치 조회"
      ]
    },
    {
      "cell_type": "code",
      "execution_count": null,
      "id": "cf094a3a",
      "metadata": {
        "id": "cf094a3a"
      },
      "outputs": [],
      "source": [
        "# DataLoader에서 shuffle=True로 설정하여 셔플된 데이터 로드\n",
        "\n",
        "\n",
        "# 셔플된 DataLoader에서 마지막 배치 조회\n"
      ]
    },
    {
      "cell_type": "markdown",
      "id": "5f36334e",
      "metadata": {
        "id": "5f36334e"
      },
      "source": [
        "## 연습문제-03-005 drop_last가 설정된 DataLoader에서 마지막 배치 조회"
      ]
    },
    {
      "cell_type": "code",
      "execution_count": null,
      "id": "19943cf6",
      "metadata": {
        "id": "19943cf6"
      },
      "outputs": [],
      "source": [
        "# DataLoader에서 batch_size=7, shuffle=True, drop_last=True로 설정하여 셔플된 데이터 로드\n",
        "\n",
        "\n",
        "# 셔플된 DataLoader에서 마지막 배치 조회\n"
      ]
    }
  ],
  "metadata": {
    "colab": {
      "provenance": [],
      "include_colab_link": true
    },
    "kernelspec": {
      "display_name": "ai-essential",
      "language": "python",
      "name": "python3"
    },
    "language_info": {
      "codemirror_mode": {
        "name": "ipython",
        "version": 3
      },
      "file_extension": ".py",
      "mimetype": "text/x-python",
      "name": "python",
      "nbconvert_exporter": "python",
      "pygments_lexer": "ipython3",
      "version": "3.10.16"
    }
  },
  "nbformat": 4,
  "nbformat_minor": 5
}