{
  "nbformat": 4,
  "nbformat_minor": 0,
  "metadata": {
    "colab": {
      "provenance": [],
      "authorship_tag": "ABX9TyMV6ufVeGf5CpBaiIjMj2O3",
      "include_colab_link": true
    },
    "kernelspec": {
      "name": "python3",
      "display_name": "Python 3"
    },
    "language_info": {
      "name": "python"
    }
  },
  "cells": [
    {
      "cell_type": "markdown",
      "metadata": {
        "id": "view-in-github",
        "colab_type": "text"
      },
      "source": [
        "<a href=\"https://colab.research.google.com/github/Vida0822/MachinLearning_Basic/blob/main/classification.ipynb\" target=\"_parent\"><img src=\"https://colab.research.google.com/assets/colab-badge.svg\" alt=\"Open In Colab\"/></a>"
      ]
    },
    {
      "cell_type": "markdown",
      "source": [
        "# 분류 알고리즘 (Classification)\n",
        "\n",
        "> 럭키백의 생선이 어떤 타깃에 속하는지 확률을 구해주세요! <br>\n",
        "(생선의 길이, 높이, 무게, 대각선 길이, 대각선 무게가 주어진다)\n",
        "\n",
        "즉, 특정 클래스에 속할 확률을 구하는 알고리즘으로(Y is Binary Variable), <br>\n",
        "예측(Y-parameter) 뿐만 아니라 예측의 근거가 되는 확률(Y^-estimator)을 도출하는 것이다. <br>\n",
        "해당 확률은 분류 모델이 얼마나 예측을 확신하는지 나타낸다.\n",
        "\n",
        "\n",
        "<br>"
      ],
      "metadata": {
        "id": "nR7X_iHp61ym"
      }
    },
    {
      "cell_type": "markdown",
      "source": [
        "### K-최근접 이웃 분류 (KNeighborsClassification)\n",
        "이웃의 클래스 비율로 각 클래스별 확률을 도출한다. <br>\n",
        "즉, 검사 대상 이웃들 중 가장 높은 비율을 차지하는 클래스가 나의 클래스이다. <br>\n",
        "\n",
        "주변 이웃의 클래스 비율 각각 확인 = 이는 곧 나의 클래스별 예측 확률\n",
        "  -> 내 클래스 예측(최고치)\n"
      ],
      "metadata": {
        "id": "jOa0ssLX8duR"
      }
    },
    {
      "cell_type": "markdown",
      "source": [
        "#### 1) 데이터 준비 (수집, 가공, 전처리)"
      ],
      "metadata": {
        "id": "pfv4X-oPHPed"
      }
    },
    {
      "cell_type": "code",
      "execution_count": 7,
      "metadata": {
        "id": "uxY8Twf5sXQD",
        "colab": {
          "base_uri": "https://localhost:8080/",
          "height": 206
        },
        "outputId": "78b70600-fa85-4f99-9270-4c73b4f8bd80"
      },
      "outputs": [
        {
          "output_type": "execute_result",
          "data": {
            "text/plain": [
              "  Species  Weight  Length  Diagonal   Height   Width\n",
              "0   Bream   242.0    25.4      30.0  11.5200  4.0200\n",
              "1   Bream   290.0    26.3      31.2  12.4800  4.3056\n",
              "2   Bream   340.0    26.5      31.1  12.3778  4.6961\n",
              "3   Bream   363.0    29.0      33.5  12.7300  4.4555\n",
              "4   Bream   430.0    29.0      34.0  12.4440  5.1340"
            ],
            "text/html": [
              "\n",
              "  <div id=\"df-65aec785-c443-4b22-8cc7-ecf302dcac80\" class=\"colab-df-container\">\n",
              "    <div>\n",
              "<style scoped>\n",
              "    .dataframe tbody tr th:only-of-type {\n",
              "        vertical-align: middle;\n",
              "    }\n",
              "\n",
              "    .dataframe tbody tr th {\n",
              "        vertical-align: top;\n",
              "    }\n",
              "\n",
              "    .dataframe thead th {\n",
              "        text-align: right;\n",
              "    }\n",
              "</style>\n",
              "<table border=\"1\" class=\"dataframe\">\n",
              "  <thead>\n",
              "    <tr style=\"text-align: right;\">\n",
              "      <th></th>\n",
              "      <th>Species</th>\n",
              "      <th>Weight</th>\n",
              "      <th>Length</th>\n",
              "      <th>Diagonal</th>\n",
              "      <th>Height</th>\n",
              "      <th>Width</th>\n",
              "    </tr>\n",
              "  </thead>\n",
              "  <tbody>\n",
              "    <tr>\n",
              "      <th>0</th>\n",
              "      <td>Bream</td>\n",
              "      <td>242.0</td>\n",
              "      <td>25.4</td>\n",
              "      <td>30.0</td>\n",
              "      <td>11.5200</td>\n",
              "      <td>4.0200</td>\n",
              "    </tr>\n",
              "    <tr>\n",
              "      <th>1</th>\n",
              "      <td>Bream</td>\n",
              "      <td>290.0</td>\n",
              "      <td>26.3</td>\n",
              "      <td>31.2</td>\n",
              "      <td>12.4800</td>\n",
              "      <td>4.3056</td>\n",
              "    </tr>\n",
              "    <tr>\n",
              "      <th>2</th>\n",
              "      <td>Bream</td>\n",
              "      <td>340.0</td>\n",
              "      <td>26.5</td>\n",
              "      <td>31.1</td>\n",
              "      <td>12.3778</td>\n",
              "      <td>4.6961</td>\n",
              "    </tr>\n",
              "    <tr>\n",
              "      <th>3</th>\n",
              "      <td>Bream</td>\n",
              "      <td>363.0</td>\n",
              "      <td>29.0</td>\n",
              "      <td>33.5</td>\n",
              "      <td>12.7300</td>\n",
              "      <td>4.4555</td>\n",
              "    </tr>\n",
              "    <tr>\n",
              "      <th>4</th>\n",
              "      <td>Bream</td>\n",
              "      <td>430.0</td>\n",
              "      <td>29.0</td>\n",
              "      <td>34.0</td>\n",
              "      <td>12.4440</td>\n",
              "      <td>5.1340</td>\n",
              "    </tr>\n",
              "  </tbody>\n",
              "</table>\n",
              "</div>\n",
              "    <div class=\"colab-df-buttons\">\n",
              "\n",
              "  <div class=\"colab-df-container\">\n",
              "    <button class=\"colab-df-convert\" onclick=\"convertToInteractive('df-65aec785-c443-4b22-8cc7-ecf302dcac80')\"\n",
              "            title=\"Convert this dataframe to an interactive table.\"\n",
              "            style=\"display:none;\">\n",
              "\n",
              "  <svg xmlns=\"http://www.w3.org/2000/svg\" height=\"24px\" viewBox=\"0 -960 960 960\">\n",
              "    <path d=\"M120-120v-720h720v720H120Zm60-500h600v-160H180v160Zm220 220h160v-160H400v160Zm0 220h160v-160H400v160ZM180-400h160v-160H180v160Zm440 0h160v-160H620v160ZM180-180h160v-160H180v160Zm440 0h160v-160H620v160Z\"/>\n",
              "  </svg>\n",
              "    </button>\n",
              "\n",
              "  <style>\n",
              "    .colab-df-container {\n",
              "      display:flex;\n",
              "      gap: 12px;\n",
              "    }\n",
              "\n",
              "    .colab-df-convert {\n",
              "      background-color: #E8F0FE;\n",
              "      border: none;\n",
              "      border-radius: 50%;\n",
              "      cursor: pointer;\n",
              "      display: none;\n",
              "      fill: #1967D2;\n",
              "      height: 32px;\n",
              "      padding: 0 0 0 0;\n",
              "      width: 32px;\n",
              "    }\n",
              "\n",
              "    .colab-df-convert:hover {\n",
              "      background-color: #E2EBFA;\n",
              "      box-shadow: 0px 1px 2px rgba(60, 64, 67, 0.3), 0px 1px 3px 1px rgba(60, 64, 67, 0.15);\n",
              "      fill: #174EA6;\n",
              "    }\n",
              "\n",
              "    .colab-df-buttons div {\n",
              "      margin-bottom: 4px;\n",
              "    }\n",
              "\n",
              "    [theme=dark] .colab-df-convert {\n",
              "      background-color: #3B4455;\n",
              "      fill: #D2E3FC;\n",
              "    }\n",
              "\n",
              "    [theme=dark] .colab-df-convert:hover {\n",
              "      background-color: #434B5C;\n",
              "      box-shadow: 0px 1px 3px 1px rgba(0, 0, 0, 0.15);\n",
              "      filter: drop-shadow(0px 1px 2px rgba(0, 0, 0, 0.3));\n",
              "      fill: #FFFFFF;\n",
              "    }\n",
              "  </style>\n",
              "\n",
              "    <script>\n",
              "      const buttonEl =\n",
              "        document.querySelector('#df-65aec785-c443-4b22-8cc7-ecf302dcac80 button.colab-df-convert');\n",
              "      buttonEl.style.display =\n",
              "        google.colab.kernel.accessAllowed ? 'block' : 'none';\n",
              "\n",
              "      async function convertToInteractive(key) {\n",
              "        const element = document.querySelector('#df-65aec785-c443-4b22-8cc7-ecf302dcac80');\n",
              "        const dataTable =\n",
              "          await google.colab.kernel.invokeFunction('convertToInteractive',\n",
              "                                                    [key], {});\n",
              "        if (!dataTable) return;\n",
              "\n",
              "        const docLinkHtml = 'Like what you see? Visit the ' +\n",
              "          '<a target=\"_blank\" href=https://colab.research.google.com/notebooks/data_table.ipynb>data table notebook</a>'\n",
              "          + ' to learn more about interactive tables.';\n",
              "        element.innerHTML = '';\n",
              "        dataTable['output_type'] = 'display_data';\n",
              "        await google.colab.output.renderOutput(dataTable, element);\n",
              "        const docLink = document.createElement('div');\n",
              "        docLink.innerHTML = docLinkHtml;\n",
              "        element.appendChild(docLink);\n",
              "      }\n",
              "    </script>\n",
              "  </div>\n",
              "\n",
              "\n",
              "<div id=\"df-ec5d6fc1-fb08-4158-9daf-3970ca2ac6f7\">\n",
              "  <button class=\"colab-df-quickchart\" onclick=\"quickchart('df-ec5d6fc1-fb08-4158-9daf-3970ca2ac6f7')\"\n",
              "            title=\"Suggest charts\"\n",
              "            style=\"display:none;\">\n",
              "\n",
              "<svg xmlns=\"http://www.w3.org/2000/svg\" height=\"24px\"viewBox=\"0 0 24 24\"\n",
              "     width=\"24px\">\n",
              "    <g>\n",
              "        <path d=\"M19 3H5c-1.1 0-2 .9-2 2v14c0 1.1.9 2 2 2h14c1.1 0 2-.9 2-2V5c0-1.1-.9-2-2-2zM9 17H7v-7h2v7zm4 0h-2V7h2v10zm4 0h-2v-4h2v4z\"/>\n",
              "    </g>\n",
              "</svg>\n",
              "  </button>\n",
              "\n",
              "<style>\n",
              "  .colab-df-quickchart {\n",
              "      --bg-color: #E8F0FE;\n",
              "      --fill-color: #1967D2;\n",
              "      --hover-bg-color: #E2EBFA;\n",
              "      --hover-fill-color: #174EA6;\n",
              "      --disabled-fill-color: #AAA;\n",
              "      --disabled-bg-color: #DDD;\n",
              "  }\n",
              "\n",
              "  [theme=dark] .colab-df-quickchart {\n",
              "      --bg-color: #3B4455;\n",
              "      --fill-color: #D2E3FC;\n",
              "      --hover-bg-color: #434B5C;\n",
              "      --hover-fill-color: #FFFFFF;\n",
              "      --disabled-bg-color: #3B4455;\n",
              "      --disabled-fill-color: #666;\n",
              "  }\n",
              "\n",
              "  .colab-df-quickchart {\n",
              "    background-color: var(--bg-color);\n",
              "    border: none;\n",
              "    border-radius: 50%;\n",
              "    cursor: pointer;\n",
              "    display: none;\n",
              "    fill: var(--fill-color);\n",
              "    height: 32px;\n",
              "    padding: 0;\n",
              "    width: 32px;\n",
              "  }\n",
              "\n",
              "  .colab-df-quickchart:hover {\n",
              "    background-color: var(--hover-bg-color);\n",
              "    box-shadow: 0 1px 2px rgba(60, 64, 67, 0.3), 0 1px 3px 1px rgba(60, 64, 67, 0.15);\n",
              "    fill: var(--button-hover-fill-color);\n",
              "  }\n",
              "\n",
              "  .colab-df-quickchart-complete:disabled,\n",
              "  .colab-df-quickchart-complete:disabled:hover {\n",
              "    background-color: var(--disabled-bg-color);\n",
              "    fill: var(--disabled-fill-color);\n",
              "    box-shadow: none;\n",
              "  }\n",
              "\n",
              "  .colab-df-spinner {\n",
              "    border: 2px solid var(--fill-color);\n",
              "    border-color: transparent;\n",
              "    border-bottom-color: var(--fill-color);\n",
              "    animation:\n",
              "      spin 1s steps(1) infinite;\n",
              "  }\n",
              "\n",
              "  @keyframes spin {\n",
              "    0% {\n",
              "      border-color: transparent;\n",
              "      border-bottom-color: var(--fill-color);\n",
              "      border-left-color: var(--fill-color);\n",
              "    }\n",
              "    20% {\n",
              "      border-color: transparent;\n",
              "      border-left-color: var(--fill-color);\n",
              "      border-top-color: var(--fill-color);\n",
              "    }\n",
              "    30% {\n",
              "      border-color: transparent;\n",
              "      border-left-color: var(--fill-color);\n",
              "      border-top-color: var(--fill-color);\n",
              "      border-right-color: var(--fill-color);\n",
              "    }\n",
              "    40% {\n",
              "      border-color: transparent;\n",
              "      border-right-color: var(--fill-color);\n",
              "      border-top-color: var(--fill-color);\n",
              "    }\n",
              "    60% {\n",
              "      border-color: transparent;\n",
              "      border-right-color: var(--fill-color);\n",
              "    }\n",
              "    80% {\n",
              "      border-color: transparent;\n",
              "      border-right-color: var(--fill-color);\n",
              "      border-bottom-color: var(--fill-color);\n",
              "    }\n",
              "    90% {\n",
              "      border-color: transparent;\n",
              "      border-bottom-color: var(--fill-color);\n",
              "    }\n",
              "  }\n",
              "</style>\n",
              "\n",
              "  <script>\n",
              "    async function quickchart(key) {\n",
              "      const quickchartButtonEl =\n",
              "        document.querySelector('#' + key + ' button');\n",
              "      quickchartButtonEl.disabled = true;  // To prevent multiple clicks.\n",
              "      quickchartButtonEl.classList.add('colab-df-spinner');\n",
              "      try {\n",
              "        const charts = await google.colab.kernel.invokeFunction(\n",
              "            'suggestCharts', [key], {});\n",
              "      } catch (error) {\n",
              "        console.error('Error during call to suggestCharts:', error);\n",
              "      }\n",
              "      quickchartButtonEl.classList.remove('colab-df-spinner');\n",
              "      quickchartButtonEl.classList.add('colab-df-quickchart-complete');\n",
              "    }\n",
              "    (() => {\n",
              "      let quickchartButtonEl =\n",
              "        document.querySelector('#df-ec5d6fc1-fb08-4158-9daf-3970ca2ac6f7 button');\n",
              "      quickchartButtonEl.style.display =\n",
              "        google.colab.kernel.accessAllowed ? 'block' : 'none';\n",
              "    })();\n",
              "  </script>\n",
              "</div>\n",
              "\n",
              "    </div>\n",
              "  </div>\n"
            ],
            "application/vnd.google.colaboratory.intrinsic+json": {
              "type": "dataframe",
              "variable_name": "fish",
              "summary": "{\n  \"name\": \"fish\",\n  \"rows\": 159,\n  \"fields\": [\n    {\n      \"column\": \"Species\",\n      \"properties\": {\n        \"dtype\": \"category\",\n        \"num_unique_values\": 7,\n        \"samples\": [\n          \"Bream\",\n          \"Roach\",\n          \"Pike\"\n        ],\n        \"semantic_type\": \"\",\n        \"description\": \"\"\n      }\n    },\n    {\n      \"column\": \"Weight\",\n      \"properties\": {\n        \"dtype\": \"number\",\n        \"std\": 357.9783165508931,\n        \"min\": 0.0,\n        \"max\": 1650.0,\n        \"num_unique_values\": 101,\n        \"samples\": [\n          770.0,\n          51.5,\n          197.0\n        ],\n        \"semantic_type\": \"\",\n        \"description\": \"\"\n      }\n    },\n    {\n      \"column\": \"Length\",\n      \"properties\": {\n        \"dtype\": \"number\",\n        \"std\": 10.716328098884247,\n        \"min\": 8.4,\n        \"max\": 63.4,\n        \"num_unique_values\": 93,\n        \"samples\": [\n          14.7,\n          18.8,\n          19.6\n        ],\n        \"semantic_type\": \"\",\n        \"description\": \"\"\n      }\n    },\n    {\n      \"column\": \"Diagonal\",\n      \"properties\": {\n        \"dtype\": \"number\",\n        \"std\": 11.610245832690964,\n        \"min\": 8.8,\n        \"max\": 68.0,\n        \"num_unique_values\": 124,\n        \"samples\": [\n          39.2,\n          27.2,\n          23.1\n        ],\n        \"semantic_type\": \"\",\n        \"description\": \"\"\n      }\n    },\n    {\n      \"column\": \"Height\",\n      \"properties\": {\n        \"dtype\": \"number\",\n        \"std\": 4.2862076199688675,\n        \"min\": 1.7284,\n        \"max\": 18.957,\n        \"num_unique_values\": 154,\n        \"samples\": [\n          15.438,\n          7.293,\n          2.8728\n        ],\n        \"semantic_type\": \"\",\n        \"description\": \"\"\n      }\n    },\n    {\n      \"column\": \"Width\",\n      \"properties\": {\n        \"dtype\": \"number\",\n        \"std\": 1.685803869992167,\n        \"min\": 1.0476,\n        \"max\": 8.142,\n        \"num_unique_values\": 152,\n        \"samples\": [\n          3.1571,\n          1.3936,\n          3.6835\n        ],\n        \"semantic_type\": \"\",\n        \"description\": \"\"\n      }\n    }\n  ]\n}"
            }
          },
          "metadata": {},
          "execution_count": 7
        }
      ],
      "source": [
        "import pandas as pd\n",
        "fish = pd.read_csv('https://bit.ly/fish_csv_data')\n",
        "fish.head()"
      ]
    },
    {
      "cell_type": "markdown",
      "source": [
        "RAW 데이터를 준비한다(읽어온다)."
      ],
      "metadata": {
        "id": "MN3gIs4F_Bp7"
      }
    },
    {
      "cell_type": "code",
      "source": [
        "print(pd.unique(fish['Species'])) # Species 열에서 고유한 값 출력 : unique()\n",
        "# 데이터 프레임에서 열을 선택하려면 원하는 열을 리스트로 나열한다 => 새로운 데이터프레임으로 반환"
      ],
      "metadata": {
        "colab": {
          "base_uri": "https://localhost:8080/"
        },
        "id": "V3bZB-GpDDdg",
        "outputId": "28a317c9-1248-4ba6-a96c-dd0cfeb00474"
      },
      "execution_count": null,
      "outputs": [
        {
          "output_type": "stream",
          "name": "stdout",
          "text": [
            "['Bream' 'Roach' 'Whitefish' 'Parkki' 'Perch' 'Pike' 'Smelt']\n"
          ]
        }
      ]
    },
    {
      "cell_type": "markdown",
      "source": [
        "타킷 데이터에 2개 이상의 클래스가 포함된 문제를 '다중 분류'라고 부른다. <br>\n",
        "사이킷런에선 편리하게도 문자열로 된 타깃값을 그대로 사용할 수 있다.\n",
        "\n",
        "<br>"
      ],
      "metadata": {
        "id": "8pv2uTyqFOEJ"
      }
    },
    {
      "cell_type": "markdown",
      "source": [
        "**+) 판다스** <br>\n",
        "\n",
        "데이터 분석 라이브러리인 판다스의 데이터프레임(dataframe)은 판다스에서 제공하는 2차원 표 형식의 데이터 구조이다. <br>\n",
        "넘파이처럼 다차원 배열을 다룰 수 있지만 통계와 그래프를 위한 메서드 등 훨씬 풍부한 기능을 제공한다. <br>\n",
        "넘파이로 상호 변환이 쉽고 사이킷런과 호환성도 좋다.\n",
        "\n",
        "<br>"
      ],
      "metadata": {
        "id": "pk86jvvo9ibi"
      }
    },
    {
      "cell_type": "code",
      "source": [
        "# 입력 데이터\n",
        "fish_input = fish[['Weight', 'Length', 'Diagonal', 'Height', 'Width']].to_numpy()\n",
        "print(fish_input[:5])\n",
        "\n",
        "# 타깃 데이터\n",
        "fish_target = fish['Species'].to_numpy()"
      ],
      "metadata": {
        "colab": {
          "base_uri": "https://localhost:8080/",
          "height": 0
        },
        "id": "xQfPr_XRD0pi",
        "outputId": "ba2f63b3-fa91-4f63-f84c-155588adce35"
      },
      "execution_count": 9,
      "outputs": [
        {
          "output_type": "stream",
          "name": "stdout",
          "text": [
            "[[242.      25.4     30.      11.52     4.02  ]\n",
            " [290.      26.3     31.2     12.48     4.3056]\n",
            " [340.      26.5     31.1     12.3778   4.6961]\n",
            " [363.      29.      33.5     12.73     4.4555]\n",
            " [430.      29.      34.      12.444    5.134 ]]\n"
          ]
        }
      ]
    },
    {
      "cell_type": "markdown",
      "source": [
        "입력 데이터와 타깃 데이터로 나눈다.\n",
        "\n",
        "<br>"
      ],
      "metadata": {
        "id": "ypYoOOWMF_vu"
      }
    },
    {
      "cell_type": "code",
      "source": [
        "from sklearn.model_selection import train_test_split\n",
        "\n",
        "train_input, test_input, train_target, test_target = train_test_split(fish_input, fish_target, random_state = 42)"
      ],
      "metadata": {
        "id": "6S63NGqXGQEP"
      },
      "execution_count": 10,
      "outputs": []
    },
    {
      "cell_type": "markdown",
      "source": [
        "훈련 세트와 테스트 세트로 나눈다.\n",
        "\n",
        "<br>"
      ],
      "metadata": {
        "id": "X8t-xP9HGvBu"
      }
    },
    {
      "cell_type": "code",
      "source": [
        "from sklearn.preprocessing import StandardScaler\n",
        "\n",
        "ss = StandardScaler()\n",
        "\n",
        "ss.fit(train_input) # 훈련세트 통계값 반영\n",
        "\n",
        "train_scaled = ss.transform(train_input)\n",
        "test_scaled = ss.transform(test_input) # 훈련세트 통계값 사용"
      ],
      "metadata": {
        "id": "T3ozq8Q0G1HP"
      },
      "execution_count": 11,
      "outputs": []
    },
    {
      "cell_type": "markdown",
      "source": [
        "데이터 세트를 표준화 전처리\n",
        "\n",
        "<br>"
      ],
      "metadata": {
        "id": "5DHnYskmG0xI"
      }
    },
    {
      "cell_type": "markdown",
      "source": [
        "#### 2) 확률 예측"
      ],
      "metadata": {
        "id": "Mih9z-WlH5xY"
      }
    },
    {
      "cell_type": "code",
      "source": [
        "from sklearn.neighbors import KNeighborsClassifier\n",
        "\n",
        "kn = KNeighborsClassifier(n_neighbors=3)\n",
        "\n",
        "# 훈련\n",
        "kn.fit(train_scaled, train_target)\n",
        "\n",
        "# 평가\n",
        "print(kn.score(train_scaled, train_target))\n",
        "print(kn.score(test_scaled, test_target))"
      ],
      "metadata": {
        "colab": {
          "base_uri": "https://localhost:8080/"
        },
        "id": "dkQCQEN1IJZz",
        "outputId": "86ceede5-bf87-4a33-ee1f-3a7add098d6b"
      },
      "execution_count": null,
      "outputs": [
        {
          "output_type": "stream",
          "name": "stdout",
          "text": [
            "0.8907563025210085\n",
            "0.85\n"
          ]
        }
      ]
    },
    {
      "cell_type": "markdown",
      "source": [
        "이웃 근접 모델을 훈련, 평가한다.\n",
        "\n",
        "<br>"
      ],
      "metadata": {
        "id": "WHJimUaAJlSD"
      }
    },
    {
      "cell_type": "code",
      "source": [
        "print(kn.classes_) # 모델에 정렬된 타깃값 저장되어있음"
      ],
      "metadata": {
        "colab": {
          "base_uri": "https://localhost:8080/"
        },
        "id": "COXAWwL3Jsya",
        "outputId": "419dcee4-38c8-41e7-f17c-b40928dde907"
      },
      "execution_count": null,
      "outputs": [
        {
          "output_type": "stream",
          "name": "stdout",
          "text": [
            "['Bream' 'Parkki' 'Perch' 'Pike' 'Roach' 'Smelt' 'Whitefish']\n"
          ]
        }
      ]
    },
    {
      "cell_type": "markdown",
      "source": [
        "※주의 : 문자열 타깃값을 그대로 사이킷런 모델에 전달하면 순서가 자동으로 알파벳 순으로 매겨진다 <br>\n",
        "즉 모델에 저장된(listing)된 클래스 순서는 알파벳 순이다."
      ],
      "metadata": {
        "id": "xjlb_T6cK3Hb"
      }
    },
    {
      "cell_type": "code",
      "source": [
        "print(kn.predict(test_scaled[:5]))"
      ],
      "metadata": {
        "colab": {
          "base_uri": "https://localhost:8080/"
        },
        "id": "OIZzVgg4LjkF",
        "outputId": "81a51ae8-9898-427c-8f48-034f6ccfd256"
      },
      "execution_count": null,
      "outputs": [
        {
          "output_type": "stream",
          "name": "stdout",
          "text": [
            "['Perch' 'Smelt' 'Pike' 'Perch' 'Perch']\n"
          ]
        }
      ]
    },
    {
      "cell_type": "markdown",
      "source": [
        "But 친절하게도 순서와 관계없이 타깃값 자체만으로 예측을 출력한다 (not 클래스 순번). <br>\n",
        "위 코드는 처음 5개 샘플의 타깃값을 예측한 것이다.\n",
        "\n",
        "<br>"
      ],
      "metadata": {
        "id": "yqM4jDNDLqCA"
      }
    },
    {
      "cell_type": "code",
      "source": [
        "import numpy as np\n",
        "proba = kn.predict_proba(test_scaled[:5]) # 해당 객체의 클래스별 확률 값 반환\n",
        "print(np.round(proba, decimals=4)) # 소수점 넷째 자리까지 출력 (반올림)"
      ],
      "metadata": {
        "colab": {
          "base_uri": "https://localhost:8080/"
        },
        "id": "HDE1H2KrOi7C",
        "outputId": "7a66d9fe-43e8-4aa0-9d1b-239083edbe5e"
      },
      "execution_count": null,
      "outputs": [
        {
          "output_type": "stream",
          "name": "stdout",
          "text": [
            "[[0.     0.     1.     0.     0.     0.     0.    ]\n",
            " [0.     0.     0.     0.     0.     1.     0.    ]\n",
            " [0.     0.     0.     1.     0.     0.     0.    ]\n",
            " [0.     0.     0.6667 0.     0.3333 0.     0.    ]\n",
            " [0.     0.     0.6667 0.     0.3333 0.     0.    ]]\n"
          ]
        }
      ]
    },
    {
      "cell_type": "markdown",
      "source": [
        "이는 각 객체의 클래스별 확률값을 계산한 것이다. <br>\n",
        "클래스 순서는 classes_속성의 순서와 같다.\n",
        "\n",
        "<br>"
      ],
      "metadata": {
        "id": "4tLI4RcgPt-u"
      }
    },
    {
      "cell_type": "code",
      "source": [
        "distances, indexes = kn.kneighbors(test_scaled[3:4]) # 네번째 샘플  (2차원 배열로 넘겨줘야 하기에 슬라이싱 연산자 사용)\n",
        "print(train_target[indexes])"
      ],
      "metadata": {
        "colab": {
          "base_uri": "https://localhost:8080/"
        },
        "id": "wijTaxcRQ36s",
        "outputId": "804d6f78-a4a3-47c9-a656-19b783990cca"
      },
      "execution_count": null,
      "outputs": [
        {
          "output_type": "stream",
          "name": "stdout",
          "text": [
            "[['Roach' 'Perch' 'Perch']]\n"
          ]
        }
      ]
    },
    {
      "cell_type": "markdown",
      "source": [
        "최근접 이웃 분류 모델에선, 가장 가까운 이웃의 비율을 확률로 계산한다\n",
        "\n",
        "고려 대상 이웃 셈플 3개 중 'Roach'가 1개, 'Perch'가 2개이다. <br>\n",
        "즉 해당 이웃들의 전체 클래스 중 'Perch'가 차지하는 비율은 곧 내 클래스가 'Perch'일 확률이며 <br>\n",
        "같은 원리로, 내 클래스가 'Roach'일 예측확률은 1/3이다.<br>\n",
        "Perch가 가장 높은 비율(2/3)을 차지하기에 내 클래스는 'Perch'로 예측한다. <br>\n",
        "\n",
        "\n",
        "<br>"
      ],
      "metadata": {
        "id": "08SptKGdR6VX"
      }
    },
    {
      "cell_type": "markdown",
      "source": [
        "🤔 하지만 이는 상황에 따라 확률이라고 말하긴 좀 어색! <br>\n",
        "주변과의 분포가 클래스 타입과 영향이 분명이 있어야 확률로 취급 가능. <br>\n",
        "+ 이웃한 샘플의 클래스 비율이므로 항상 정해진 확률값만 출력\n",
        "더 좋은 방법 필요하겠다!\n",
        "\n",
        "<br>  "
      ],
      "metadata": {
        "id": "hbDfSLu_S4Bq"
      }
    },
    {
      "cell_type": "markdown",
      "source": [
        "### 로지스틱 회귀 (Logistic Regression)\n",
        "\n",
        "선형 회귀 (z = a x weight + b x length +... f )로 확률을 구하면 <br>\n",
        "독립 변수 값에 따라 확률값(z)가 0보다 작거나 1보다 클 수도 있다. <br>\n",
        "이는 '확률'이라는 개념과 어긋나기 때문에, 확률을 0~1 사이의 값으로 만들어 주는 후처리가 필요하다. <br>\n",
        "이러한 역할을 시그모이드 함수(또는 로지스틱 함수)가 수행하며, 이러한 선형 회귀 방식을 Logistic Regression이라고 한다. <br>\n",
        "\n",
        "+) 동일한 원리를 사용하는 Probit Regression도 존재 (적용 함수가 다르다)  \n",
        "\n",
        "<br>"
      ],
      "metadata": {
        "id": "A0znAKK4U_lk"
      }
    },
    {
      "cell_type": "code",
      "source": [
        "import numpy as np\n",
        "import matplotlib.pyplot as plt\n",
        "\n",
        "# -5와 5 사이에 0.1 간격으로 배열 z를 만든다. (z = [-5, -4.9, -4.8..., 4.9, 5]) --> 이 부분이 나중엔 실제 선형 방정식 결과값으로 나옴\n",
        "z = np.arange(-5,5,0.1)\n",
        "\n",
        "# 해당 z 배열의 value point마다 시그모이드 함수를 계산한다 (exp() : 지수 함수 계산)\n",
        "phi = 1 / (1+np.exp(-z))\n",
        "\n",
        "plt.plot(z, phi)\n",
        "plt.xlabel('z')\n",
        "plt.ylabel('phi')\n",
        "plt.show()"
      ],
      "metadata": {
        "colab": {
          "base_uri": "https://localhost:8080/",
          "height": 449
        },
        "id": "eKiypWLqUhSb",
        "outputId": "12b9054e-b6b9-4dc9-dc88-be80936e2d14"
      },
      "execution_count": 8,
      "outputs": [
        {
          "output_type": "display_data",
          "data": {
            "text/plain": [
              "<Figure size 640x480 with 1 Axes>"
            ],
            "image/png": "[encoded data removed]"
          },
          "metadata": {}
        }
      ]
    },
    {
      "cell_type": "markdown",
      "source": [
        "로지스틱 함수는 선형 방정식의 결과값(z)를 인자로 받아 해당 음수 값만큼 자연 상수 e를 거듭제곱 하고 1을 더한 값의 역수를 취한다. <br>\n",
        "이를 통해 확률을 0~1 사이의 값으로 만들며 위와 같은 그래프 형태를 띄게 한다.\n",
        "\n",
        "<br>"
      ],
      "metadata": {
        "id": "Y2gnJ3C3XQxL"
      }
    },
    {
      "cell_type": "markdown",
      "source": [
        "#### 1) 이진 분류\n",
        "\n",
        "두개의 클래스가 있을 때 양성 클래스가 될 확률을 바탕으로 자신의 클래스를 결정한다. <br>\n",
        "이진 분류의 경우 시그모이드 함수 출력이 0.5 보다 크면 양성, 작으면 음성 클래스로 판단한다."
      ],
      "metadata": {
        "id": "H5edlM0PbcUO"
      }
    },
    {
      "cell_type": "code",
      "source": [
        "bream_smelt_indexes = (train_target == 'Bream') | (train_target == 'Smelt') # True 또는 False인 배열 반환 --> 도미 또는 빙어인 행번호\n",
        "\n",
        "# 해당 행번호의 객체(행)만 골라내어 훈련 세트\n",
        "train_bream_smelt = train_scaled[bream_smelt_indexes] # 해당 행의 입력 데이터\n",
        "target_bream_smelt = train_target[bream_smelt_indexes] # 해당 행의 테스트 데이터"
      ],
      "metadata": {
        "id": "NK8BznbLYGgX"
      },
      "execution_count": 13,
      "outputs": []
    },
    {
      "cell_type": "markdown",
      "source": [
        "도미와 빙어에 대한 행만 골라낸다. <br>\n",
        "넘파이 배열에서의 행 선택은 True, False값을 전달하여 행을 골라낸다. (True인 것만 골라짐)\n",
        "\n",
        "<br>\n"
      ],
      "metadata": {
        "id": "bm24qZOjbIAP"
      }
    },
    {
      "cell_type": "code",
      "source": [
        "from sklearn.linear_model import LogisticRegression\n",
        "lr = LogisticRegression()\n",
        "\n",
        "# 훈련\n",
        "lr.fit(train_bream_smelt, target_bream_smelt)"
      ],
      "metadata": {
        "colab": {
          "base_uri": "https://localhost:8080/",
          "height": 74
        },
        "id": "Zo-bBTwDbM7f",
        "outputId": "bdb6ed58-4973-4161-b959-002426ba02b3"
      },
      "execution_count": 14,
      "outputs": [
        {
          "output_type": "execute_result",
          "data": {
            "text/plain": [
              "LogisticRegression()"
            ],
            "text/html": [
              "<style>#sk-container-id-1 {color: black;background-color: white;}#sk-container-id-1 pre{padding: 0;}#sk-container-id-1 div.sk-toggleable {background-color: white;}#sk-container-id-1 label.sk-toggleable__label {cursor: pointer;display: block;width: 100%;margin-bottom: 0;padding: 0.3em;box-sizing: border-box;text-align: center;}#sk-container-id-1 label.sk-toggleable__label-arrow:before {content: \"▸\";float: left;margin-right: 0.25em;color: #696969;}#sk-container-id-1 label.sk-toggleable__label-arrow:hover:before {color: black;}#sk-container-id-1 div.sk-estimator:hover label.sk-toggleable__label-arrow:before {color: black;}#sk-container-id-1 div.sk-toggleable__content {max-height: 0;max-width: 0;overflow: hidden;text-align: left;background-color: #f0f8ff;}#sk-container-id-1 div.sk-toggleable__content pre {margin: 0.2em;color: black;border-radius: 0.25em;background-color: #f0f8ff;}#sk-container-id-1 input.sk-toggleable__control:checked~div.sk-toggleable__content {max-height: 200px;max-width: 100%;overflow: auto;}#sk-container-id-1 input.sk-toggleable__control:checked~label.sk-toggleable__label-arrow:before {content: \"▾\";}#sk-container-id-1 div.sk-estimator input.sk-toggleable__control:checked~label.sk-toggleable__label {background-color: #d4ebff;}#sk-container-id-1 div.sk-label input.sk-toggleable__control:checked~label.sk-toggleable__label {background-color: #d4ebff;}#sk-container-id-1 input.sk-hidden--visually {border: 0;clip: rect(1px 1px 1px 1px);clip: rect(1px, 1px, 1px, 1px);height: 1px;margin: -1px;overflow: hidden;padding: 0;position: absolute;width: 1px;}#sk-container-id-1 div.sk-estimator {font-family: monospace;background-color: #f0f8ff;border: 1px dotted black;border-radius: 0.25em;box-sizing: border-box;margin-bottom: 0.5em;}#sk-container-id-1 div.sk-estimator:hover {background-color: #d4ebff;}#sk-container-id-1 div.sk-parallel-item::after {content: \"\";width: 100%;border-bottom: 1px solid gray;flex-grow: 1;}#sk-container-id-1 div.sk-label:hover label.sk-toggleable__label {background-color: #d4ebff;}#sk-container-id-1 div.sk-serial::before {content: \"\";position: absolute;border-left: 1px solid gray;box-sizing: border-box;top: 0;bottom: 0;left: 50%;z-index: 0;}#sk-container-id-1 div.sk-serial {display: flex;flex-direction: column;align-items: center;background-color: white;padding-right: 0.2em;padding-left: 0.2em;position: relative;}#sk-container-id-1 div.sk-item {position: relative;z-index: 1;}#sk-container-id-1 div.sk-parallel {display: flex;align-items: stretch;justify-content: center;background-color: white;position: relative;}#sk-container-id-1 div.sk-item::before, #sk-container-id-1 div.sk-parallel-item::before {content: \"\";position: absolute;border-left: 1px solid gray;box-sizing: border-box;top: 0;bottom: 0;left: 50%;z-index: -1;}#sk-container-id-1 div.sk-parallel-item {display: flex;flex-direction: column;z-index: 1;position: relative;background-color: white;}#sk-container-id-1 div.sk-parallel-item:first-child::after {align-self: flex-end;width: 50%;}#sk-container-id-1 div.sk-parallel-item:last-child::after {align-self: flex-start;width: 50%;}#sk-container-id-1 div.sk-parallel-item:only-child::after {width: 0;}#sk-container-id-1 div.sk-dashed-wrapped {border: 1px dashed gray;margin: 0 0.4em 0.5em 0.4em;box-sizing: border-box;padding-bottom: 0.4em;background-color: white;}#sk-container-id-1 div.sk-label label {font-family: monospace;font-weight: bold;display: inline-block;line-height: 1.2em;}#sk-container-id-1 div.sk-label-container {text-align: center;}#sk-container-id-1 div.sk-container {/* jupyter's `normalize.less` sets `[hidden] { display: none; }` but bootstrap.min.css set `[hidden] { display: none !important; }` so we also need the `!important` here to be able to override the default hidden behavior on the sphinx rendered scikit-learn.org. See: https://github.com/scikit-learn/scikit-learn/issues/21755 */display: inline-block !important;position: relative;}#sk-container-id-1 div.sk-text-repr-fallback {display: none;}</style><div id=\"sk-container-id-1\" class=\"sk-top-container\"><div class=\"sk-text-repr-fallback\"><pre>LogisticRegression()</pre><b>In a Jupyter environment, please rerun this cell to show the HTML representation or trust the notebook. <br />On GitHub, the HTML representation is unable to render, please try loading this page with nbviewer.org.</b></div><div class=\"sk-container\" hidden><div class=\"sk-item\"><div class=\"sk-estimator sk-toggleable\"><input class=\"sk-toggleable__control sk-hidden--visually\" id=\"sk-estimator-id-1\" type=\"checkbox\" checked><label for=\"sk-estimator-id-1\" class=\"sk-toggleable__label sk-toggleable__label-arrow\">LogisticRegression</label><div class=\"sk-toggleable__content\"><pre>LogisticRegression()</pre></div></div></div></div></div>"
            ]
          },
          "metadata": {},
          "execution_count": 14
        }
      ]
    },
    {
      "cell_type": "markdown",
      "source": [
        "사이킷런에는 로지스틱 회귀 모델인 LogisticRegression을 사용한다.\n",
        "\n",
        "<br>"
      ],
      "metadata": {
        "id": "TVdxeQmvcP2X"
      }
    },
    {
      "cell_type": "code",
      "source": [
        "print(lr.classes_) # 타깃값을 알파벳순으로 정렬하여 사용\n",
        "print(lr.predict_proba(train_bream_smelt[:5]))\n",
        "print(lr.predict(train_bream_smelt[:5]))"
      ],
      "metadata": {
        "colab": {
          "base_uri": "https://localhost:8080/",
          "height": 0
        },
        "id": "n0KpDK5Edd_H",
        "outputId": "d4a52f2a-e849-44f9-c0a1-a5ce5b245a43"
      },
      "execution_count": 16,
      "outputs": [
        {
          "output_type": "stream",
          "name": "stdout",
          "text": [
            "['Bream' 'Smelt']\n",
            "[[0.99759855 0.00240145]\n",
            " [0.02735183 0.97264817]\n",
            " [0.99486072 0.00513928]\n",
            " [0.98584202 0.01415798]\n",
            " [0.99767269 0.00232731]]\n",
            "['Bream' 'Smelt' 'Bream' 'Bream' 'Bream']\n"
          ]
        }
      ]
    },
    {
      "cell_type": "markdown",
      "source": [
        "처음 5개 샘플의 음성,양성 클래스(도미, 빙어)의 예측 확률이며 <br>\n",
        "양성 클래스인 Smelt의 확률을 바탕으로 0.5가 넘으면 자신의 클래스로 예측/판단한다.\n",
        "\n",
        "<br>"
      ],
      "metadata": {
        "id": "6L_zZCz3ddim"
      }
    },
    {
      "cell_type": "code",
      "source": [
        "print(lr.coef_, lr.intercept_)"
      ],
      "metadata": {
        "colab": {
          "base_uri": "https://localhost:8080/",
          "height": 0
        },
        "id": "FsgYNWcre4tK",
        "outputId": "7667c38e-c129-4702-9e03-d1c520ce4495"
      },
      "execution_count": 17,
      "outputs": [
        {
          "output_type": "stream",
          "name": "stdout",
          "text": [
            "[[-0.4037798  -0.57620209 -0.66280298 -1.01290277 -0.73168947]] [-2.16155132]\n"
          ]
        }
      ]
    },
    {
      "cell_type": "markdown",
      "source": [
        "로지스틱 회귀 모델이 학습한 선형 방정식은 다음과 같다.\n",
        "\n",
        "z = -0.404 x Weight -0.576 X Length -0.663 X Diagnal -1.013 X Height -0.732 X Width -2.16\n",
        "\n",
        "<br>"
      ],
      "metadata": {
        "id": "Q4SCAI_7fVxT"
      }
    },
    {
      "cell_type": "code",
      "source": [
        "# z 값\n",
        "decisions = lr.decision_function(train_bream_smelt[:5])\n",
        "print(decisions)\n",
        "\n",
        "# 시그모이드 함수 적용 값\n",
        "from scipy.special import expit\n",
        "print(expit(decisions))"
      ],
      "metadata": {
        "colab": {
          "base_uri": "https://localhost:8080/",
          "height": 0
        },
        "id": "mC86gz6JgMGY",
        "outputId": "9a54fd1f-9ccf-45c4-d81d-0f9c4f04c0c2"
      },
      "execution_count": 18,
      "outputs": [
        {
          "output_type": "stream",
          "name": "stdout",
          "text": [
            "[-6.02927744  3.57123907 -5.26568906 -4.24321775 -6.0607117 ]\n",
            "[0.00240145 0.97264817 0.00513928 0.01415798 0.00232731]\n"
          ]
        }
      ]
    },
    {
      "cell_type": "markdown",
      "source": [
        "양성 클래스에 대한 z값과 해당 z값의 시그모이드 함수 적용값이다.\n",
        "\n",
        "<br>"
      ],
      "metadata": {
        "id": "yFz5mJ3xhJX8"
      }
    },
    {
      "cell_type": "markdown",
      "source": [
        "#### 2) 다중 분류\n",
        "\n",
        "LogisticRegression 클래스를 사용해 7개의 생선을 분류하며 이진 분류와의 차이점을 알아보자!\n",
        "\n",
        "<br>"
      ],
      "metadata": {
        "id": "zg6cE3cahRRX"
      }
    },
    {
      "cell_type": "code",
      "source": [
        "# 모델 객체 생성\n",
        "lr = LogisticRegression(C = 20, max_iter = 1000)  # 반복↑, 규제↓\n",
        "\n",
        "# 훈련\n",
        "lr.fit(train_scaled, train_target)\n",
        "\n",
        "# 평가\n",
        "print(lr.score(train_scaled, train_target))\n",
        "print(lr.score(test_scaled, test_target))"
      ],
      "metadata": {
        "colab": {
          "base_uri": "https://localhost:8080/",
          "height": 0
        },
        "id": "CJt_yyDJjFf3",
        "outputId": "09e8130e-3181-4982-f8a5-cc02535517ce"
      },
      "execution_count": 19,
      "outputs": [
        {
          "output_type": "stream",
          "name": "stdout",
          "text": [
            "0.9327731092436975\n",
            "0.925\n"
          ]
        }
      ]
    },
    {
      "cell_type": "markdown",
      "source": [
        "- max_iter : LogisticRegression은 반복 학습을 통해 훈련하며 해당 반복 횟수 기본값은 100이다.\n",
        "- C : 규제를 제어하는 매개변수로 릿지 규제의 alpha와 반대로 작을수록 규제가 커진다. 기본값은 1이다\n",
        "\n",
        "<br>"
      ],
      "metadata": {
        "id": "1EV4MEPgjmEm"
      }
    },
    {
      "cell_type": "code",
      "source": [
        "print(lr.classes_)\n",
        "\n",
        "proba = lr.predict_proba(test_scaled[:5])\n",
        "print(np.round(proba, decimals = 3))\n",
        "\n",
        "print(lr.predict(test_scaled[:5]))"
      ],
      "metadata": {
        "colab": {
          "base_uri": "https://localhost:8080/",
          "height": 0
        },
        "id": "8dY51ZHljkx3",
        "outputId": "1615b74d-bd04-4e47-d63e-6afab7d2efd3"
      },
      "execution_count": 20,
      "outputs": [
        {
          "output_type": "stream",
          "name": "stdout",
          "text": [
            "['Bream' 'Parkki' 'Perch' 'Pike' 'Roach' 'Smelt' 'Whitefish']\n",
            "[[0.    0.014 0.841 0.    0.136 0.007 0.003]\n",
            " [0.    0.003 0.044 0.    0.007 0.946 0.   ]\n",
            " [0.    0.    0.034 0.935 0.015 0.016 0.   ]\n",
            " [0.011 0.034 0.306 0.007 0.567 0.    0.076]\n",
            " [0.    0.    0.904 0.002 0.089 0.002 0.001]]\n",
            "['Perch' 'Smelt' 'Pike' 'Roach' 'Perch']\n"
          ]
        }
      ]
    },
    {
      "cell_type": "markdown",
      "source": [
        "다중 분류도 똑같다! <br>\n",
        "이진 분류가 샘플마다 2개의 확률을 출력하는 것처럼 다중 분류는 샘플마다 클래스 갯수만큼 확률을 출력한다. <br>\n",
        "그중 가장 높은 확률이 예측 클래스가 되는 것!\n",
        "\n",
        " <br>"
      ],
      "metadata": {
        "id": "15R_yisJk_jc"
      }
    },
    {
      "cell_type": "code",
      "source": [
        "print(lr.coef_.shape, lr.intercept_.shape)\n",
        "print(lr.coef_)\n",
        "print(lr.intercept_)"
      ],
      "metadata": {
        "colab": {
          "base_uri": "https://localhost:8080/",
          "height": 0
        },
        "id": "iU3AaAwxlT5b",
        "outputId": "dc5bbcb3-e1d8-4e77-dd8a-ab7baa6436b9"
      },
      "execution_count": 23,
      "outputs": [
        {
          "output_type": "stream",
          "name": "stdout",
          "text": [
            "(7, 5) (7,)\n",
            "[[-1.49001259 -1.02909653  2.59342992  7.70358183 -1.20070797]\n",
            " [ 0.19618191 -2.01072007 -3.77974344  6.50492519 -1.99481478]\n",
            " [ 3.562807    6.34355461 -8.48969786 -5.75757213  3.79306162]\n",
            " [-0.10458363  3.60320663  3.93067948 -3.61740078 -1.7506979 ]\n",
            " [-1.40060998 -6.0750259   5.25969918 -0.87219289  1.86043812]\n",
            " [-1.38528461  1.49213609  1.39225441 -5.67734711 -4.40097409]\n",
            " [ 0.6215019  -2.32405484 -0.9066217   1.71600589  3.69369499]]\n",
            "[-0.09204689 -0.26289902  3.25100925 -0.14740759  2.65498221 -6.78787045\n",
            "  1.38423249]\n"
          ]
        }
      ]
    },
    {
      "cell_type": "markdown",
      "source": [
        "선형 방정식이 7개나 나왔다! 즉 각 샘플별로 z값을 다르게 계산한다는 얘기 <br>\n",
        "1) 각 클래스별로 선형 방정식을 도출한다. <br>\n",
        "2) 해당 선형 방정식으로 각 클래스별 z값을 계산한다. <br>\n",
        "3) 소프트맥스 함수를 사용해 z를 0과 1사이의 값으로 변환한다.<br>\n",
        "4) 가장 높은 확률 값을 출력하는 클래스가 예측 클래스가 된다. <br>\n",
        "5) 그 값이 해당 샘플의 양성 클래스 확률이다!\n",
        "\n",
        "<br>"
      ],
      "metadata": {
        "id": "yvj10J9HmgMu"
      }
    },
    {
      "cell_type": "markdown",
      "source": [
        "소프트맥스 함수\n",
        ": 시그모이드 함수는 함수는 하나의 선형 방정식 출력값을 0~1 사이로 압축한다.\n",
        "\n",
        "하지만 소프트맥스 함수는 여러개의 선형 방정식 출력값을 0~1사이로 압축하고 전체 합을 1이 되도록 만든다. <br>\n",
        "이를 위해 지수함수를 사용하기 때문에 정규화된 지수 함수라고 부른다.\n",
        "<br><br>\n",
        "\n",
        "샘플의 각 클래스별 z값을 z1~z7이라고 명명한다.\n",
        "> e_sum = e.exp(z1) + e.exp(z2) + .... e.exp(z7)\n",
        "\n",
        "e_sum을 이루는 각 지수값을 e_sum으로 나눈 값이 각 클래스별 확률값(s1~s7)이다.\n",
        "> s1 = e.exp(z1)/e_sum, s2 = e.exp(z2)/e_sum ...\n",
        "\n",
        "s1에서 s7까지 모두 더하면 분자와 분모가 같아지므로 1이 된다.\n"
      ],
      "metadata": {
        "id": "QUNYnqC0oo-a"
      }
    },
    {
      "cell_type": "code",
      "source": [
        "decision = lr.decision_function(test_scaled[:5])\n",
        "print(np.round(decision, decimals = 2)) # 테스트 세트 샘플 5개에 대한 z1~z7(클래스 갯수:7) 값"
      ],
      "metadata": {
        "colab": {
          "base_uri": "https://localhost:8080/",
          "height": 0
        },
        "id": "7SErEADAootN",
        "outputId": "d0a61da5-f0f9-492f-9401-ec0175f19f94"
      },
      "execution_count": 24,
      "outputs": [
        {
          "output_type": "stream",
          "name": "stdout",
          "text": [
            "[[ -6.5    1.03   5.16  -2.73   3.34   0.33  -0.63]\n",
            " [-10.86   1.93   4.77  -2.4    2.98   7.84  -4.26]\n",
            " [ -4.34  -6.23   3.17   6.49   2.36   2.42  -3.87]\n",
            " [ -0.68   0.45   2.65  -1.19   3.26  -5.75   1.26]\n",
            " [ -6.4   -1.99   5.82  -0.11   3.5   -0.11  -0.71]]\n"
          ]
        }
      ]
    },
    {
      "cell_type": "markdown",
      "source": [
        "각 샘플의 각 클래스별 z값을 출력한다,"
      ],
      "metadata": {
        "id": "40RX_CXBp7wZ"
      }
    },
    {
      "cell_type": "code",
      "source": [
        "from scipy.special import softmax\n",
        "proba = softmax(decision, axis = 1)  # 함수 적용단위 지정: 행단위로! (지정 안하면 배열 전체에 대해!)\n",
        "print(np.round(proba, decimals = 3))"
      ],
      "metadata": {
        "colab": {
          "base_uri": "https://localhost:8080/",
          "height": 0
        },
        "id": "U8002WF5pmGi",
        "outputId": "06ee3c93-1345-4fa4-d5cd-89e89f243b40"
      },
      "execution_count": 25,
      "outputs": [
        {
          "output_type": "stream",
          "name": "stdout",
          "text": [
            "[[0.    0.014 0.841 0.    0.136 0.007 0.003]\n",
            " [0.    0.003 0.044 0.    0.007 0.946 0.   ]\n",
            " [0.    0.    0.034 0.935 0.015 0.016 0.   ]\n",
            " [0.011 0.034 0.306 0.007 0.567 0.    0.076]\n",
            " [0.    0.    0.904 0.002 0.089 0.002 0.001]]\n"
          ]
        }
      ]
    },
    {
      "cell_type": "markdown",
      "source": [
        "해당 z값 배열(decision)을 softmax()함수에 전달하여 행 단위로 softmax 함수를 적용한다. <br>\n",
        "이는 앞서 구한 proba 배열(샘플별 클래스별 확률값)과 결과가 일치한다.  \n",
        "\n",
        "<br>\n"
      ],
      "metadata": {
        "id": "S74-ca0vqDBt"
      }
    },
    {
      "cell_type": "markdown",
      "source": [
        "### 확률적 경사 하강법\n",
        "\n",
        "훈련 데이터가 한번에 준비될 수도 있지만 조금씩 전달되는 경우가 많다 <br>\n",
        "ex) google 번역 : 처음부터 세상에 존재하는 모든 문장으로 훈련하는 것이 아닌 사람들이 사용하면서 데이터가 더 쌓이고 이를 바탕으로 훈련\n",
        "\n",
        "> 🤔 기존의 훈련 데이터에 새로운 데이터를 추가해 모델을 매일매일 재훈련?\n",
        "\n",
        "그럼 시간이 지날수록 데이터가 늘어나고 서버 장비에 한계가 옴..\n",
        "\n",
        "> 🤔 그렇다면 새로운 데이터를 추가할 때 이전 데이터를 일부 버림으로써 훈련 데이터 크기 유지?\n",
        "\n",
        "만약 버릴 때 다른 데이터에 없는 중요한 정보가 포함되어있으면 X..\n",
        "\n",
        "<br>\n",
        "\n",
        "즉, 이전에 훈련한 모델을 버리고 새로 훈련하는 이전의 모델들은 적합하지 않음!\n",
        "\n",
        "=> **점진적 학습(온라인 학습) : 훈련한 모델을 버리지 않고, 해당 모들을 새로운 데이터데 대해서 조금씩만 더 훈련** <br>\n",
        "ㄴ 대표적인 알고리즘 : 확률적 경사 하강법 !\n",
        "\n",
        "<br>"
      ],
      "metadata": {
        "id": "lkChp2-aueZP"
      }
    },
    {
      "cell_type": "code",
      "source": [
        "import pandas as pd\n",
        "fish = pd.read_csv('https://bit.ly/fish_csv_data')"
      ],
      "metadata": {
        "id": "Li3Vfabn8r8f"
      },
      "execution_count": 2,
      "outputs": []
    },
    {
      "cell_type": "markdown",
      "source": [
        "csv 파일로부터 판다스 데이터 프레임을 만든다.\n",
        "\n",
        "<br>"
      ],
      "metadata": {
        "id": "Bs0fCOFA83eZ"
      }
    },
    {
      "cell_type": "code",
      "source": [
        "# 입력 데이터 (X1, X2..)\n",
        "fish_input = fish[['Weight', 'Length', 'Diagonal', 'Height', 'Width']].to_numpy()\n",
        "\n",
        "# 타깃 데이터 (Y)\n",
        "fish_target = fish['Species'].to_numpy()"
      ],
      "metadata": {
        "id": "Orj5kCjP88tT"
      },
      "execution_count": 3,
      "outputs": []
    },
    {
      "cell_type": "markdown",
      "source": [
        "입력 데이터와 타깃 데이터를 지정하여 선형 방정식 변수(뼈대)를 지정한다.\n",
        "\n",
        "<br>"
      ],
      "metadata": {
        "id": "8xWXTx3D9pGX"
      }
    },
    {
      "cell_type": "code",
      "source": [
        "# 훈련 세트와 데이터 세트\n",
        "from sklearn.model_selection import train_test_split\n",
        "train_input, test_input, train_target, test_target = train_test_split(fish_input, fish_target)"
      ],
      "metadata": {
        "id": "SEeEe_op92zn"
      },
      "execution_count": 4,
      "outputs": []
    },
    {
      "cell_type": "markdown",
      "source": [
        "훈련 세트와 데이터 세트로 나누고\n",
        "\n",
        "<br>\n"
      ],
      "metadata": {
        "id": "k5GySI5f95em"
      }
    },
    {
      "cell_type": "code",
      "source": [
        "from sklearn.preprocessing import StandardScaler\n",
        "ss = StandardScaler()\n",
        "\n",
        "ss.fit(train_input)\n",
        "\n",
        "train_scaled = ss.transform(train_input)\n",
        "test_scaled = ss.transform(test_input)"
      ],
      "metadata": {
        "id": "dRQCeQBP-KSs"
      },
      "execution_count": 5,
      "outputs": []
    },
    {
      "cell_type": "markdown",
      "source": [
        "각 입력 세트의 특성들을 표준화 전처리한다 <br>\n",
        "(입력 세트에 사용되는 특성이 여러개이기 때문에 필수적인 과정)\n",
        "\n",
        "<br>"
      ],
      "metadata": {
        "id": "Bm1ezN9z99kp"
      }
    },
    {
      "cell_type": "code",
      "source": [
        "from sklearn.linear_model import SGDClassifier # 확률적 경사 하강법을 제공하는 대표적인 분류 클래스\n",
        "\n",
        "sc = SGDClassifier(loss = 'log_loss', max_iter = 10, random_state = 42)\n",
        "# loss : 손실 함수 종류 지정 --> 'log_loss' : 로지스틱 손실 함수 지정\n",
        "# max_iter : 수행할 에포크 횟수 지정"
      ],
      "metadata": {
        "id": "rPJ1QqiJ-vzG"
      },
      "execution_count": 36,
      "outputs": []
    },
    {
      "cell_type": "markdown",
      "source": [
        "**경사 하강법(경사를 따라 내려가는 방법)** <br>\n",
        ": 가장 가파른 경사를 따라 원하는 지점에 도달하는 것이 목표! But 내려올 땐 천천히 조금 씩 내려와야한다.\n",
        "즉 특정 point를 향해 가장 가파른 길을 찾아 내려오지만 조금씩 내려오는 것이 중요!  \n",
        "> Q. 그렇다면 뭘 따라 내려온다는거야? <br>\n",
        "A. 손실 함수!\n",
        "<br>\n",
        "\n",
        "#### 1) 손실 함수 <br>\n",
        ": 머신러닝 모델이 얼마나 엉터리인지 측정하는 기준 (당연히 작을 수록 좋다)\n",
        "어떤 값이 최솟값인진 알지 못하기 때문에 가능한 많이 찾아보고 만족할 만한 수준이라면 산을 내려왔다고 인정해야한다. 그 값을 찾아 조금씩 이동하기에 확률적 경사 하강법을 사용해 손실값을 줄여나간다.\n",
        "<br>\n",
        "※ 손실 함수는 연속적이며, 미분 가능해야한다.\n",
        "\n",
        "<br>\n",
        "\n",
        "\n",
        "**로지스틱 손실함수** <br>\n",
        "> 분류 모델에서 손실은 아주 확실하다. 정답을 못 맞추는 것!\n",
        "\n",
        "이진 분류를 예로 양성 클래스 예측값(0,1) vs 정답(타깃)값을 비교해보자.\n",
        "\n",
        "|  예측   | 타깃   | 성공여부 |\n",
        "|-----|------|------|\n",
        "| 1 | 1  | 맞춤 |\n",
        "| 0 | 1  | 못맞춤 |\n",
        "| 0 | 0  | 맞춤 |\n",
        "| 1 | 0  | 못맞춤 |\n",
        "\n",
        "<br>\n",
        "\n",
        "로지스틱 손실함수에선 우선 예측과 타깃의 곱의 음수를 취한다 : - (예측 x 타깃)  <br>\n",
        "예측이 1에 가까울수록 예측과 타깃의 곱의 음수는 점점 작아진다.\n",
        "\n",
        "|  예측확률 | 타깃   | 성공여부 | 손실 |\n",
        "|-----|------|------|------|\n",
        "| 0.9 | 1  | 맞춤 | -0.9 |\n",
        "| 0.3 | 1  | 못맞춤 | -0.3 |\n",
        "| 0.2 | 0  | 맞춤 | -0.8 |\n",
        "| 0.8 | 0  | 못맞춤 | -0.2 |\n",
        "\n",
        "> 예측확률 : 양성 클래스일 것으로 예측한 확률\n",
        "<-> (1 - 예측 확률) : 음성 클래스일 것으로 예측한 확률\n",
        "\n",
        "1- 음성 클래스값이 0이기 때문에 타깃을 마치 양성 클래스인것처럼 바꾸어 1로 바꾸고 <br>\n",
        "2- 예측값도 양성 클래스에 대한 예측으로 바꾼다 <br>\n",
        "ex) 4번째 0.8 -(0.8 x 0) --> -(0.2 x 1)  = -0.2 (높은 손실)\n",
        "\n",
        "<br>\n"
      ],
      "metadata": {
        "id": "sfGFYN0kro9F"
      }
    },
    {
      "cell_type": "code",
      "source": [
        "from math import log\n",
        "\n",
        "p = np.arange(0,1.2,0.1)\n",
        "log_p = np.log10(p)\n",
        "log_p_neg = - (np.log10(p))\n",
        "\n",
        "# 1\n",
        "plt.plot(p, log_p, color = 'b')\n",
        "plt.axvline(x=0,color = 'black')  # draw x =0 axes\n",
        "plt.axhline(y=0,color = 'black')   # draw y =0 axes\n",
        "plt.xlabel('p')\n",
        "plt.ylabel('log_p')\n",
        "plt.scatter(1.0,0.0,color='r')\n",
        "plt.show()\n",
        "\n",
        "# 2\n",
        "plt.plot(p, log_p_neg, color = 'b')\n",
        "plt.axvline(x=0, color = 'black')  # draw x =0 axes\n",
        "plt.axhline(y=0, color = 'black')   # draw y =0 axes\n",
        "plt.xlabel('p')\n",
        "plt.ylabel('-log_p')\n",
        "plt.scatter(1.0,0.0,color='r')\n",
        "plt.show()"
      ],
      "metadata": {
        "colab": {
          "base_uri": "https://localhost:8080/",
          "height": 950
        },
        "id": "TVJlYPcCzg7o",
        "outputId": "280f8f7b-4b8e-4eca-e1ab-bf093a26ffb5"
      },
      "execution_count": 31,
      "outputs": [
        {
          "output_type": "stream",
          "name": "stderr",
          "text": [
            "<ipython-input-31-c6666cf9cb8b>:4: RuntimeWarning: divide by zero encountered in log10\n",
            "  log_p = np.log10(p)\n",
            "<ipython-input-31-c6666cf9cb8b>:5: RuntimeWarning: divide by zero encountered in log10\n",
            "  log_p_neg = - (np.log10(p))\n"
          ]
        },
        {
          "output_type": "display_data",
          "data": {
            "text/plain": [
              "<Figure size 640x480 with 1 Axes>"
            ],
            "image/png": "[encoded data removed]"
          },
          "metadata": {}
        },
        {
          "output_type": "display_data",
          "data": {
            "text/plain": [
              "<Figure size 640x480 with 1 Axes>"
            ],
            "image/png": "[encoded data removed]"
          },
          "metadata": {}
        }
      ]
    },
    {
      "cell_type": "markdown",
      "source": [
        "> 추가로, 예측 확률에 로그를 취하면 더 좋다.\n",
        "\n",
        "확률의 범위는 0~1 사이인데 로그함수는 이 사이에선 음수가 되기 때문에 다시 음수를 취한 최종 손실 값은 양수가 된다.  <br>\n",
        "0에 가까울 수록 로그함수는 큰 정수를 갖기 때문에 가시적으로 손실을 확인할 수 있다.\n",
        "\n",
        "이진 분류에서 사용하는 이러한 손실 함수를 로지스틱 손실 함수, 또는 이진 크로스엔트로피 손실 함수라고 부른다.\n",
        "다중 분류에서 사용하는 손실 함수는 크로스엔트로피 손실 함수라고 부른다.\n",
        "\n",
        "+) 회귀 : 손실 함수로 평균 제곱 오차(MSE) 사용\n",
        "\n",
        "<br>\n"
      ],
      "metadata": {
        "id": "GjHPK8gd2itt"
      }
    },
    {
      "cell_type": "markdown",
      "source": [
        "#### 2) 에포크"
      ],
      "metadata": {
        "id": "jBca6e-l6Z1N"
      }
    },
    {
      "cell_type": "code",
      "source": [
        "# 훈련\n",
        "sc.fit(train_scaled, train_target)\n",
        "\n",
        "# 평가\n",
        "print(sc.score(train_scaled, train_target))\n",
        "print(sc.score(test_scaled, test_target))"
      ],
      "metadata": {
        "colab": {
          "base_uri": "https://localhost:8080/"
        },
        "id": "djjo3zvG4F41",
        "outputId": "e0473cb8-5d1b-41e7-982c-2f501e0c1ffa"
      },
      "execution_count": 37,
      "outputs": [
        {
          "output_type": "stream",
          "name": "stdout",
          "text": [
            "0.6890756302521008\n",
            "0.625\n"
          ]
        },
        {
          "output_type": "stream",
          "name": "stderr",
          "text": [
            "/usr/local/lib/python3.10/dist-packages/sklearn/linear_model/_stochastic_gradient.py:702: ConvergenceWarning: Maximum number of iteration reached before convergence. Consider increasing max_iter to improve the fit.\n",
            "  warnings.warn(\n"
          ]
        }
      ]
    },
    {
      "cell_type": "markdown",
      "source": [
        "> ConvergenceWarning 경고 + 낮은 정확도\n",
        "\n",
        "모델을 훈련시켜보니 지정한 반복 횟수 10번이 부족한 것처럼 보인다. <br>\n",
        "=> 추가 에포크 실행 필요!\n"
      ],
      "metadata": {
        "id": "1IUKW5y24ZEB"
      }
    },
    {
      "cell_type": "markdown",
      "source": [
        "> 에포크 ?\n",
        "\n",
        "'확률적(무작위, 랜덤)'\n",
        "1) 경사를 내려올 때 전체 샘플을 사용하지 않고 일부 샘플을 훈련 세트에서 랜덤하게 골라 가장 가파른 길을 찾는다. <br>\n",
        "2) 그 다음 훈련 세트에서 랜덤하게 또 다른 샘플을 선택해 경사를 조금 내려간다.<br>\n",
        "3) 전체 샘플을 모두 사용할 때까지 반복한다. <br>\n",
        "4) 목표 point에 도달하지 못했다면 다시 처음부터 시작한다. <br>\n",
        "<br>\n",
        "이렇게 훈련 세트를 한번 모두 사용하는 과정을 '에포크(epoch)'라고 부른다. 일반적으로 수십, 수백번 이상 에포크를 수행한다.\n",
        "\n",
        "* 확률적 경사 하강법 : 한번 내려갈 때 마다 1개씩 샘플 꺼내기\n",
        "* 미니배치 경사 하강법 : 여러개 샘플 꺼내기\n",
        "* 배치 경사 하강법 : 전체 샘플 사용\n",
        "\n",
        "즉, 확률적 경사 하강법은 훈련 세트 일부를 사용해 최적값으로 조금씩 이동하는 알고리즘으로, 훈련 데이터가 모두 준비되어있지 않고 계속 업데이트 되더라도 학습을 이어나갈 수 있다.\n",
        "\n",
        "<br>"
      ],
      "metadata": {
        "id": "uc2sVQCQ4puU"
      }
    },
    {
      "cell_type": "code",
      "source": [
        "# 추가 훈련 (not 재훈련)\n",
        "sc.partial_fit(train_scaled, train_target)\n",
        "\n",
        "# 평가\n",
        "print(sc.score(train_scaled, train_target))\n",
        "print(sc.score(test_scaled, test_target))"
      ],
      "metadata": {
        "colab": {
          "base_uri": "https://localhost:8080/"
        },
        "id": "Uzlbyo_s6FR4",
        "outputId": "922147bd-a52c-4bc2-94a1-09ef53004712"
      },
      "execution_count": 38,
      "outputs": [
        {
          "output_type": "stream",
          "name": "stdout",
          "text": [
            "0.7394957983193278\n",
            "0.55\n"
          ]
        }
      ]
    },
    {
      "cell_type": "markdown",
      "source": [
        "에포크를 한 번 더 실행하니 정확도가 향상했지만, 아직 점수가 낮다. <br>\n",
        "여러 에포크에서 더 훈련할 필요가 있겠군!\n",
        "\n",
        "> 그런데 얼마나 더 훈련해야하지?\n",
        "\n",
        "무작정 많이 반복할 순 없고 어떤 기준이 필요하겠다 <br>\n",
        "=> **과대/과소 적합!**\n",
        "\n",
        "<br>"
      ],
      "metadata": {
        "id": "OimQT9ZO7LZy"
      }
    },
    {
      "cell_type": "code",
      "source": [
        "import numpy as np\n",
        "sc = SGDClassifier(loss = 'log_loss', random_state = 42, tol=None)\n",
        "train_score = [] # 훈련 세트 점수\n",
        "test_score = [] # 테스트 세트 점수\n",
        "classes = np.unique(train_target)\n",
        "# partial_fit() 메서드만 사용하려면 훈련 세트에 있는 전체 클래스 레이블(category)을 전달해줘야함"
      ],
      "metadata": {
        "id": "QXtDCgH979Zu"
      },
      "execution_count": 50,
      "outputs": []
    },
    {
      "cell_type": "code",
      "source": [
        "# 300번의 에포크\n",
        "for _ in range(0,300): # '_' : 버리는 값을 집어넣는 용도\n",
        "  sc.partial_fit(train_scaled, train_target, classes = classes)\n",
        "  train_score.append(sc.score(train_scaled, train_target))\n",
        "  test_score.append(sc.score(test_scaled, test_target))"
      ],
      "metadata": {
        "id": "QDODy2K29BYJ"
      },
      "execution_count": 51,
      "outputs": []
    },
    {
      "cell_type": "code",
      "source": [
        "plt.plot(train_score)\n",
        "plt.plot(test_score)\n",
        "plt.xlabel('epoch')\n",
        "plt.ylabel('accuracy')\n",
        "plt.show()\n",
        "\n",
        "# +) plt.plot(train_score)와 plt.plot(test_score)는 y축 값(점수)을 설정할 뿐 x축 값은 자동으로 인덱스가 사용.\n",
        "# 즉, train_score와 test_score 리스트의 길이에 따라 x축 값이 자동으로 설정. 리스트의 인덱스가 x축 값.\n",
        "# 예를 들어, 리스트 train_score가 300개의 값(300개의 에포크 동안의 점수)을 가지고 있다면, x축은 0부터 299까지의 값으로 자동 설정됩니다."
      ],
      "metadata": {
        "colab": {
          "base_uri": "https://localhost:8080/",
          "height": 449
        },
        "id": "NGT9K_n49mO9",
        "outputId": "fb0821fe-255e-4a7e-f17b-950bf4a05654"
      },
      "execution_count": 52,
      "outputs": [
        {
          "output_type": "display_data",
          "data": {
            "text/plain": [
              "<Figure size 640x480 with 1 Axes>"
            ],
            "image/png": "[encoded data removed]"
          },
          "metadata": {}
        }
      ]
    },
    {
      "cell_type": "markdown",
      "source": [
        "해당 그래프는 에포크가 진행됨에 따라 모델의 정확도를 나타낸 것이다.\n",
        "\n",
        "확률적 경사 하강법 모델은 에포크 횟수에 따라 과소 적합이나 과대 적합이 될 수 있다. <br>\n",
        "훈련 세트 점수는 에포크가 진행될수록 꾸준히 증가하지만 테스트 세트 점수는 어느 순간 감소한다.\n",
        "\n",
        "이 모델의 경우 70번 정도가 가장 적합해보인다."
      ],
      "metadata": {
        "id": "_qQmkHLT-nDL"
      }
    },
    {
      "cell_type": "code",
      "source": [
        "sc = SGDClassifier(loss = 'log_loss', max_iter = 70, tol = None, random_state = 42)\n",
        "sc.fit(train_scaled, train_target)\n",
        "\n",
        "print(sc.score(train_scaled, train_target))\n",
        "print(sc.score(test_scaled, test_target))"
      ],
      "metadata": {
        "colab": {
          "base_uri": "https://localhost:8080/"
        },
        "id": "aEdZ3yEt_cJg",
        "outputId": "0d1b0a1d-f317-449f-d9e8-15d6d08f5041"
      },
      "execution_count": 53,
      "outputs": [
        {
          "output_type": "stream",
          "name": "stdout",
          "text": [
            "0.9495798319327731\n",
            "0.9\n"
          ]
        }
      ]
    },
    {
      "cell_type": "markdown",
      "source": [
        "훈련 세트와 테스트 세트 정확도 점수가 비교적 높게 나왔다!\n",
        "\n",
        "+) SGDClassifier는 일정 에포크 동안 성능이 향상되지 않으면 더 훈련하지 않고 자동으로 멈춘다 <br>\n",
        ": '조기 종료(early stopping). <br>\n",
        "tol 매개변수를 None으로 지정하여 자동으로 멈추지 않고 지정한 에포크 수 무조건 반복\n",
        "\n",
        "<br>\n"
      ],
      "metadata": {
        "id": "1f5HJ4pUAR7A"
      }
    },
    {
      "cell_type": "code",
      "source": [
        "sc = SGDClassifier(loss = 'hinge', max_iter = 50, tol = None, random_state = 42)\n",
        "sc.fit(train_scaled, train_target)\n",
        "print(sc.score(train_scaled, train_target))\n",
        "print(sc.score(test_scaled, test_target))"
      ],
      "metadata": {
        "colab": {
          "base_uri": "https://localhost:8080/"
        },
        "id": "144wlgaXA8vh",
        "outputId": "0cd72ef0-5a28-400e-cfa5-30ee13798ee3"
      },
      "execution_count": 55,
      "outputs": [
        {
          "output_type": "stream",
          "name": "stdout",
          "text": [
            "0.9159663865546218\n",
            "0.875\n"
          ]
        }
      ]
    },
    {
      "cell_type": "markdown",
      "source": [
        "SGDClassifier은 여러 종류의 손실 함수를 loss 매개변수에 지정하여 다양한 머신러닝 알고리즘을 지원한다.\n",
        "\n",
        "해당 매개변수의 기본값은 'hinge'로, Support Vector Machine이라는 또 다른 머신러닝 알고리즘을 위한 손실 함수이다."
      ],
      "metadata": {
        "id": "FTPVy390BWkt"
      }
    }
  ]
}